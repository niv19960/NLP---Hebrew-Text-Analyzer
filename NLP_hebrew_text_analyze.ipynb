{
 "cells": [
  {
   "cell_type": "markdown",
   "metadata": {},
   "source": [
    "## NLP_hebrew_text_analyze\n",
    "A model to predict if a story belong to male or female"
   ]
  },
  {
   "cell_type": "markdown",
   "metadata": {},
   "source": [
    "### Preceding Step - import modules (packages)\n",
    "This step is necessary in order to use external modules (packages). <br/>"
   ]
  },
  {
   "cell_type": "code",
   "execution_count": 1,
   "metadata": {},
   "outputs": [],
   "source": [
    "# imports for reading and writing (input & output) files:\n",
    "import pandas as pd\n",
    "import os\n",
    "import sys\n",
    "\n",
    "import numpy as np\n",
    "\n",
    "# Regular Expressions + Strings\n",
    "import string\n",
    "import re  \n",
    "\n",
    "import warnings\n",
    "warnings.filterwarnings(\"ignore\")\n",
    "\n",
    "# Library for Tokenization\n",
    "import nltk\n",
    "from nltk.tokenize import word_tokenize\n",
    "\n",
    "# Visualization\n",
    "from matplotlib import pyplot as plt \n",
    "%matplotlib inline\n",
    "import seaborn as sns\n",
    "\n",
    "# Vectorization, Fit and Predict\n",
    "from sklearn.feature_extraction.text import CountVectorizer\n",
    "from sklearn.pipeline import make_pipeline\n",
    "from sklearn.linear_model import LogisticRegression, Perceptron \n",
    "from sklearn.tree import DecisionTreeClassifier\n",
    "from sklearn.ensemble import RandomForestClassifier, AdaBoostClassifier\n",
    "from sklearn.neighbors import KNeighborsClassifier\n",
    "from sklearn.svm import LinearSVC, SVC\n",
    "from sklearn.neural_network import MLPClassifier\n",
    "from sklearn.naive_bayes import MultinomialNB\n",
    "\n",
    "# Evaluate the model\n",
    "from sklearn.model_selection import train_test_split\n",
    "from sklearn.model_selection import GridSearchCV\n",
    "from sklearn.neighbors import KNeighborsClassifier\n",
    "from sklearn.metrics import accuracy_score, f1_score, precision_score, recall_score\n",
    "\n",
    "# show several prints in one cell. This will allow us to condence every trick in one cell.\n",
    "from IPython.core.interactiveshell import InteractiveShell\n",
    "InteractiveShell.ast_node_interactivity = \"all\""
   ]
  },
  {
   "cell_type": "markdown",
   "metadata": {},
   "source": [
    "### Reading input files\n",
    "Reading input files for train annotated corpus (raw text data) corpus and for the test corpus"
   ]
  },
  {
   "cell_type": "code",
   "execution_count": 2,
   "metadata": {},
   "outputs": [],
   "source": [
    "train_filename = '.' + os.sep + 'input' + os.sep + 'annotated_corpus_for_train.xlsx'\n",
    "test_filename  = '.' + os.sep + 'input' + os.sep + 'test.xlsx'\n",
    "df_train = pd.read_excel(train_filename, 'corpus', index_col=None, na_values=['NA'])\n",
    "df_test  = pd.read_excel(test_filename,  'corpus', index_col=None, na_values=['NA'])"
   ]
  },
  {
   "cell_type": "markdown",
   "metadata": {},
   "source": [
    "Replace target parmeters (object) into categorical (binary - 0/1)"
   ]
  },
  {
   "cell_type": "code",
   "execution_count": 3,
   "metadata": {},
   "outputs": [],
   "source": [
    "replace_str_to_catgorical = {'f':0, 'm':1}\n",
    "df_train.replace(replace_str_to_catgorical, inplace=True)\n",
    "df_test.replace(replace_str_to_catgorical, inplace=True)"
   ]
  },
  {
   "cell_type": "code",
   "execution_count": 4,
   "metadata": {},
   "outputs": [
    {
     "data": {
      "text/html": [
       "<div>\n",
       "<style scoped>\n",
       "    .dataframe tbody tr th:only-of-type {\n",
       "        vertical-align: middle;\n",
       "    }\n",
       "\n",
       "    .dataframe tbody tr th {\n",
       "        vertical-align: top;\n",
       "    }\n",
       "\n",
       "    .dataframe thead th {\n",
       "        text-align: right;\n",
       "    }\n",
       "</style>\n",
       "<table border=\"1\" class=\"dataframe\">\n",
       "  <thead>\n",
       "    <tr style=\"text-align: right;\">\n",
       "      <th></th>\n",
       "      <th>story</th>\n",
       "      <th>gender</th>\n",
       "    </tr>\n",
       "  </thead>\n",
       "  <tbody>\n",
       "    <tr>\n",
       "      <th>0</th>\n",
       "      <td>בוקר אחד קמתי סהרורי יצאתי מהמיטה קצת מטושטש ,...</td>\n",
       "      <td>1</td>\n",
       "    </tr>\n",
       "    <tr>\n",
       "      <th>1</th>\n",
       "      <td>לחבר שלי היה יום הולדת וחיפשנו מה אפשר לעשות ל...</td>\n",
       "      <td>1</td>\n",
       "    </tr>\n",
       "    <tr>\n",
       "      <th>2</th>\n",
       "      <td>השנה האחרונה הייתה שנת קורונה, שנה לא פשוטה בק...</td>\n",
       "      <td>1</td>\n",
       "    </tr>\n",
       "    <tr>\n",
       "      <th>3</th>\n",
       "      <td>לפני כחצי שנה עברתי לגור בצפון עם בת זוגתי, עב...</td>\n",
       "      <td>1</td>\n",
       "    </tr>\n",
       "    <tr>\n",
       "      <th>4</th>\n",
       "      <td>יום חמישי רגיל, תמיד מתחיל לעבור טיפה מאוחר יו...</td>\n",
       "      <td>1</td>\n",
       "    </tr>\n",
       "    <tr>\n",
       "      <th>5</th>\n",
       "      <td>בשנה האחרונה חוויתי את מגפת הקורונה שהכריח את ...</td>\n",
       "      <td>1</td>\n",
       "    </tr>\n",
       "    <tr>\n",
       "      <th>6</th>\n",
       "      <td>בסמסטר קודם אני וכמה חברים ללימודים קבענו להיפ...</td>\n",
       "      <td>1</td>\n",
       "    </tr>\n",
       "    <tr>\n",
       "      <th>7</th>\n",
       "      <td>בשנה האחרונה למרות שלא היו יותר מידיי דברים לע...</td>\n",
       "      <td>0</td>\n",
       "    </tr>\n",
       "  </tbody>\n",
       "</table>\n",
       "</div>"
      ],
      "text/plain": [
       "                                               story  gender\n",
       "0  בוקר אחד קמתי סהרורי יצאתי מהמיטה קצת מטושטש ,...       1\n",
       "1  לחבר שלי היה יום הולדת וחיפשנו מה אפשר לעשות ל...       1\n",
       "2  השנה האחרונה הייתה שנת קורונה, שנה לא פשוטה בק...       1\n",
       "3  לפני כחצי שנה עברתי לגור בצפון עם בת זוגתי, עב...       1\n",
       "4  יום חמישי רגיל, תמיד מתחיל לעבור טיפה מאוחר יו...       1\n",
       "5  בשנה האחרונה חוויתי את מגפת הקורונה שהכריח את ...       1\n",
       "6  בסמסטר קודם אני וכמה חברים ללימודים קבענו להיפ...       1\n",
       "7  בשנה האחרונה למרות שלא היו יותר מידיי דברים לע...       0"
      ]
     },
     "execution_count": 4,
     "metadata": {},
     "output_type": "execute_result"
    }
   ],
   "source": [
    "df_train.head(8)"
   ]
  },
  {
   "cell_type": "code",
   "execution_count": 5,
   "metadata": {},
   "outputs": [
    {
     "data": {
      "text/html": [
       "<div>\n",
       "<style scoped>\n",
       "    .dataframe tbody tr th:only-of-type {\n",
       "        vertical-align: middle;\n",
       "    }\n",
       "\n",
       "    .dataframe tbody tr th {\n",
       "        vertical-align: top;\n",
       "    }\n",
       "\n",
       "    .dataframe thead th {\n",
       "        text-align: right;\n",
       "    }\n",
       "</style>\n",
       "<table border=\"1\" class=\"dataframe\">\n",
       "  <thead>\n",
       "    <tr style=\"text-align: right;\">\n",
       "      <th></th>\n",
       "      <th>story</th>\n",
       "      <th>gender</th>\n",
       "    </tr>\n",
       "  </thead>\n",
       "  <tbody>\n",
       "    <tr>\n",
       "      <th>0</th>\n",
       "      <td>כחלק ממסגרת ההתנדבות שלי במגלה אני הולך לפעמיי...</td>\n",
       "      <td>1</td>\n",
       "    </tr>\n",
       "    <tr>\n",
       "      <th>1</th>\n",
       "      <td>לפני שנה החלטתי שאני רוצה להיות טייס, התחלתי ל...</td>\n",
       "      <td>1</td>\n",
       "    </tr>\n",
       "    <tr>\n",
       "      <th>2</th>\n",
       "      <td>בתקופת הקורונה של תחילת החיסונים נגד קורונה, א...</td>\n",
       "      <td>0</td>\n",
       "    </tr>\n",
       "  </tbody>\n",
       "</table>\n",
       "</div>"
      ],
      "text/plain": [
       "                                               story  gender\n",
       "0  כחלק ממסגרת ההתנדבות שלי במגלה אני הולך לפעמיי...       1\n",
       "1  לפני שנה החלטתי שאני רוצה להיות טייס, התחלתי ל...       1\n",
       "2  בתקופת הקורונה של תחילת החיסונים נגד קורונה, א...       0"
      ]
     },
     "execution_count": 5,
     "metadata": {},
     "output_type": "execute_result"
    }
   ],
   "source": [
    "df_test.head(3)"
   ]
  },
  {
   "cell_type": "markdown",
   "metadata": {},
   "source": [
    "### Your implementation:\n",
    "Write your code solution in the following code-cells"
   ]
  },
  {
   "cell_type": "markdown",
   "metadata": {},
   "source": [
    "# <span style='font-family:\"Times New Roman\"'> <span styel=''>Preparing & Basic Information Of Train DataFrame"
   ]
  },
  {
   "cell_type": "code",
   "execution_count": 6,
   "metadata": {},
   "outputs": [
    {
     "data": {
      "text/plain": [
       "(364, 2)"
      ]
     },
     "execution_count": 6,
     "metadata": {},
     "output_type": "execute_result"
    }
   ],
   "source": [
    "df_train.shape"
   ]
  },
  {
   "cell_type": "code",
   "execution_count": 7,
   "metadata": {},
   "outputs": [
    {
     "data": {
      "text/plain": [
       "Index(['story', 'gender'], dtype='object')"
      ]
     },
     "execution_count": 7,
     "metadata": {},
     "output_type": "execute_result"
    }
   ],
   "source": [
    "df_train.columns"
   ]
  },
  {
   "cell_type": "code",
   "execution_count": 8,
   "metadata": {},
   "outputs": [
    {
     "data": {
      "text/plain": [
       "story     object\n",
       "gender     int64\n",
       "dtype: object"
      ]
     },
     "execution_count": 8,
     "metadata": {},
     "output_type": "execute_result"
    }
   ],
   "source": [
    "df_train.dtypes"
   ]
  },
  {
   "cell_type": "code",
   "execution_count": 9,
   "metadata": {},
   "outputs": [
    {
     "data": {
      "text/html": [
       "<div>\n",
       "<style scoped>\n",
       "    .dataframe tbody tr th:only-of-type {\n",
       "        vertical-align: middle;\n",
       "    }\n",
       "\n",
       "    .dataframe tbody tr th {\n",
       "        vertical-align: top;\n",
       "    }\n",
       "\n",
       "    .dataframe thead th {\n",
       "        text-align: right;\n",
       "    }\n",
       "</style>\n",
       "<table border=\"1\" class=\"dataframe\">\n",
       "  <thead>\n",
       "    <tr style=\"text-align: right;\">\n",
       "      <th></th>\n",
       "      <th>story</th>\n",
       "      <th>gender</th>\n",
       "    </tr>\n",
       "  </thead>\n",
       "  <tbody>\n",
       "    <tr>\n",
       "      <th>0</th>\n",
       "      <td>בוקר אחד קמתי סהרורי יצאתי מהמיטה קצת מטושטש ,...</td>\n",
       "      <td>1</td>\n",
       "    </tr>\n",
       "    <tr>\n",
       "      <th>1</th>\n",
       "      <td>לחבר שלי היה יום הולדת וחיפשנו מה אפשר לעשות ל...</td>\n",
       "      <td>1</td>\n",
       "    </tr>\n",
       "    <tr>\n",
       "      <th>2</th>\n",
       "      <td>השנה האחרונה הייתה שנת קורונה, שנה לא פשוטה בק...</td>\n",
       "      <td>1</td>\n",
       "    </tr>\n",
       "    <tr>\n",
       "      <th>3</th>\n",
       "      <td>לפני כחצי שנה עברתי לגור בצפון עם בת זוגתי, עב...</td>\n",
       "      <td>1</td>\n",
       "    </tr>\n",
       "    <tr>\n",
       "      <th>4</th>\n",
       "      <td>יום חמישי רגיל, תמיד מתחיל לעבור טיפה מאוחר יו...</td>\n",
       "      <td>1</td>\n",
       "    </tr>\n",
       "  </tbody>\n",
       "</table>\n",
       "</div>"
      ],
      "text/plain": [
       "                                               story  gender\n",
       "0  בוקר אחד קמתי סהרורי יצאתי מהמיטה קצת מטושטש ,...       1\n",
       "1  לחבר שלי היה יום הולדת וחיפשנו מה אפשר לעשות ל...       1\n",
       "2  השנה האחרונה הייתה שנת קורונה, שנה לא פשוטה בק...       1\n",
       "3  לפני כחצי שנה עברתי לגור בצפון עם בת זוגתי, עב...       1\n",
       "4  יום חמישי רגיל, תמיד מתחיל לעבור טיפה מאוחר יו...       1"
      ]
     },
     "execution_count": 9,
     "metadata": {},
     "output_type": "execute_result"
    }
   ],
   "source": [
    "df_train.head()"
   ]
  },
  {
   "cell_type": "code",
   "execution_count": 10,
   "metadata": {},
   "outputs": [
    {
     "data": {
      "text/html": [
       "<div>\n",
       "<style scoped>\n",
       "    .dataframe tbody tr th:only-of-type {\n",
       "        vertical-align: middle;\n",
       "    }\n",
       "\n",
       "    .dataframe tbody tr th {\n",
       "        vertical-align: top;\n",
       "    }\n",
       "\n",
       "    .dataframe thead th {\n",
       "        text-align: right;\n",
       "    }\n",
       "</style>\n",
       "<table border=\"1\" class=\"dataframe\">\n",
       "  <thead>\n",
       "    <tr style=\"text-align: right;\">\n",
       "      <th></th>\n",
       "      <th>story</th>\n",
       "      <th>gender</th>\n",
       "    </tr>\n",
       "  </thead>\n",
       "  <tbody>\n",
       "    <tr>\n",
       "      <th>359</th>\n",
       "      <td>לפני כ3 שנים התגוררתי למשך שנה בגרמניה. מטרת ה...</td>\n",
       "      <td>1</td>\n",
       "    </tr>\n",
       "    <tr>\n",
       "      <th>360</th>\n",
       "      <td>ביום הבחירות נסענו לבקר את אימי ז\"ל בבית הקברו...</td>\n",
       "      <td>1</td>\n",
       "    </tr>\n",
       "    <tr>\n",
       "      <th>361</th>\n",
       "      <td>בשנה אחרונה חוויתי לראשונה את תהליך חיפוש העבו...</td>\n",
       "      <td>1</td>\n",
       "    </tr>\n",
       "    <tr>\n",
       "      <th>362</th>\n",
       "      <td>אני סטודנט במכללה, בסמסטר א בשנת תשפ\"א נגשתי ל...</td>\n",
       "      <td>1</td>\n",
       "    </tr>\n",
       "    <tr>\n",
       "      <th>363</th>\n",
       "      <td>‏הייתי מדריכה בכפר נוער ומתאם הכפר היינו צריכי...</td>\n",
       "      <td>0</td>\n",
       "    </tr>\n",
       "  </tbody>\n",
       "</table>\n",
       "</div>"
      ],
      "text/plain": [
       "                                                 story  gender\n",
       "359  לפני כ3 שנים התגוררתי למשך שנה בגרמניה. מטרת ה...       1\n",
       "360  ביום הבחירות נסענו לבקר את אימי ז\"ל בבית הקברו...       1\n",
       "361  בשנה אחרונה חוויתי לראשונה את תהליך חיפוש העבו...       1\n",
       "362  אני סטודנט במכללה, בסמסטר א בשנת תשפ\"א נגשתי ל...       1\n",
       "363  ‏הייתי מדריכה בכפר נוער ומתאם הכפר היינו צריכי...       0"
      ]
     },
     "execution_count": 10,
     "metadata": {},
     "output_type": "execute_result"
    }
   ],
   "source": [
    "df_train.tail(5)"
   ]
  },
  {
   "cell_type": "code",
   "execution_count": 11,
   "metadata": {},
   "outputs": [
    {
     "name": "stdout",
     "output_type": "stream",
     "text": [
      "<class 'pandas.core.frame.DataFrame'>\n",
      "RangeIndex: 364 entries, 0 to 363\n",
      "Data columns (total 2 columns):\n",
      " #   Column  Non-Null Count  Dtype \n",
      "---  ------  --------------  ----- \n",
      " 0   story   364 non-null    object\n",
      " 1   gender  364 non-null    int64 \n",
      "dtypes: int64(1), object(1)\n",
      "memory usage: 5.8+ KB\n"
     ]
    }
   ],
   "source": [
    "df_train.info()"
   ]
  },
  {
   "cell_type": "code",
   "execution_count": 12,
   "metadata": {},
   "outputs": [
    {
     "data": {
      "text/html": [
       "<div>\n",
       "<style scoped>\n",
       "    .dataframe tbody tr th:only-of-type {\n",
       "        vertical-align: middle;\n",
       "    }\n",
       "\n",
       "    .dataframe tbody tr th {\n",
       "        vertical-align: top;\n",
       "    }\n",
       "\n",
       "    .dataframe thead th {\n",
       "        text-align: right;\n",
       "    }\n",
       "</style>\n",
       "<table border=\"1\" class=\"dataframe\">\n",
       "  <thead>\n",
       "    <tr style=\"text-align: right;\">\n",
       "      <th></th>\n",
       "      <th>story</th>\n",
       "      <th>gender</th>\n",
       "    </tr>\n",
       "  </thead>\n",
       "  <tbody>\n",
       "    <tr>\n",
       "      <th>count</th>\n",
       "      <td>364</td>\n",
       "      <td>364.000000</td>\n",
       "    </tr>\n",
       "    <tr>\n",
       "      <th>unique</th>\n",
       "      <td>364</td>\n",
       "      <td>NaN</td>\n",
       "    </tr>\n",
       "    <tr>\n",
       "      <th>top</th>\n",
       "      <td>הסיפור הזה התרחקש כשאר הייתי בדרום אמריקה, זה ...</td>\n",
       "      <td>NaN</td>\n",
       "    </tr>\n",
       "    <tr>\n",
       "      <th>freq</th>\n",
       "      <td>1</td>\n",
       "      <td>NaN</td>\n",
       "    </tr>\n",
       "    <tr>\n",
       "      <th>mean</th>\n",
       "      <td>NaN</td>\n",
       "      <td>0.744505</td>\n",
       "    </tr>\n",
       "    <tr>\n",
       "      <th>std</th>\n",
       "      <td>NaN</td>\n",
       "      <td>0.436739</td>\n",
       "    </tr>\n",
       "    <tr>\n",
       "      <th>min</th>\n",
       "      <td>NaN</td>\n",
       "      <td>0.000000</td>\n",
       "    </tr>\n",
       "    <tr>\n",
       "      <th>25%</th>\n",
       "      <td>NaN</td>\n",
       "      <td>0.000000</td>\n",
       "    </tr>\n",
       "    <tr>\n",
       "      <th>50%</th>\n",
       "      <td>NaN</td>\n",
       "      <td>1.000000</td>\n",
       "    </tr>\n",
       "    <tr>\n",
       "      <th>75%</th>\n",
       "      <td>NaN</td>\n",
       "      <td>1.000000</td>\n",
       "    </tr>\n",
       "    <tr>\n",
       "      <th>max</th>\n",
       "      <td>NaN</td>\n",
       "      <td>1.000000</td>\n",
       "    </tr>\n",
       "  </tbody>\n",
       "</table>\n",
       "</div>"
      ],
      "text/plain": [
       "                                                    story      gender\n",
       "count                                                 364  364.000000\n",
       "unique                                                364         NaN\n",
       "top     הסיפור הזה התרחקש כשאר הייתי בדרום אמריקה, זה ...         NaN\n",
       "freq                                                    1         NaN\n",
       "mean                                                  NaN    0.744505\n",
       "std                                                   NaN    0.436739\n",
       "min                                                   NaN    0.000000\n",
       "25%                                                   NaN    0.000000\n",
       "50%                                                   NaN    1.000000\n",
       "75%                                                   NaN    1.000000\n",
       "max                                                   NaN    1.000000"
      ]
     },
     "execution_count": 12,
     "metadata": {},
     "output_type": "execute_result"
    }
   ],
   "source": [
    "df_train.describe(include='all')"
   ]
  },
  {
   "cell_type": "code",
   "execution_count": 13,
   "metadata": {},
   "outputs": [
    {
     "data": {
      "text/plain": [
       "count    364.000000\n",
       "mean       0.744505\n",
       "std        0.436739\n",
       "min        0.000000\n",
       "25%        0.000000\n",
       "50%        1.000000\n",
       "75%        1.000000\n",
       "max        1.000000\n",
       "Name: gender, dtype: float64"
      ]
     },
     "execution_count": 13,
     "metadata": {},
     "output_type": "execute_result"
    }
   ],
   "source": [
    "df_train.gender.describe()"
   ]
  },
  {
   "cell_type": "code",
   "execution_count": 14,
   "metadata": {},
   "outputs": [
    {
     "data": {
      "text/plain": [
       "1    271\n",
       "0     93\n",
       "Name: gender, dtype: int64"
      ]
     },
     "execution_count": 14,
     "metadata": {},
     "output_type": "execute_result"
    }
   ],
   "source": [
    "df_train.gender.value_counts()"
   ]
  },
  {
   "cell_type": "markdown",
   "metadata": {},
   "source": [
    "# <span style='font-family:\"Times New Roman\"'> <span styel=''>Visualization and correlation\n"
   ]
  },
  {
   "cell_type": "code",
   "execution_count": 15,
   "metadata": {},
   "outputs": [
    {
     "data": {
      "text/plain": [
       "<matplotlib.axes._subplots.AxesSubplot at 0x2ae883302b0>"
      ]
     },
     "execution_count": 15,
     "metadata": {},
     "output_type": "execute_result"
    },
    {
     "data": {
      "text/plain": [
       "Text(0.5, 1.0, 'Gender disribution')"
      ]
     },
     "execution_count": 15,
     "metadata": {},
     "output_type": "execute_result"
    },
    {
     "data": {
      "image/png": "[encoded data removed]",
      "text/plain": [
       "<Figure size 432x288 with 1 Axes>"
      ]
     },
     "metadata": {
      "needs_background": "light"
     },
     "output_type": "display_data"
    }
   ],
   "source": [
    "df_train['gender'].value_counts().sort_index().plot(kind='bar')\n",
    "plt.title('Gender disribution')"
   ]
  },
  {
   "cell_type": "markdown",
   "metadata": {},
   "source": [
    "### <span style='font-family:\"Times New Roman\"'> <span styel=''> Number of words & characters in a text <br><br>  *The distribution's  midian value is represented by vertical dashed lines.* <br> *story_len = number of characters at each text* <br> *story_n_words = number of words at each text*</br>"
   ]
  },
  {
   "cell_type": "code",
   "execution_count": 16,
   "metadata": {},
   "outputs": [],
   "source": [
    "visulization_df = df_train.copy()"
   ]
  },
  {
   "cell_type": "code",
   "execution_count": 17,
   "metadata": {},
   "outputs": [
    {
     "data": {
      "image/png": "[encoded data removed]",
      "text/plain": [
       "<Figure size 1008x504 with 1 Axes>"
      ]
     },
     "metadata": {
      "needs_background": "light"
     },
     "output_type": "display_data"
    }
   ],
   "source": [
    "visulization_df['story_len'] = visulization_df['story'].map(lambda x: len(x))\n",
    "visulization_df['story_n_words'] = visulization_df['story'].map(lambda x: len(x.split()))\n",
    "fig, ax = plt.subplots(figsize=(14,7))\n",
    "visulization_df.story_len.plot(kind='hist',edgecolor=\"k\");\n",
    "visulization_df.story_n_words.plot(kind='hist',color='r',edgecolor=\"k\", alpha=0.7);\n",
    "plt.axvline(visulization_df['story_len'].median(), ls = '--',color='r',lw=2);\n",
    "plt.axvline(visulization_df['story_n_words'].median(), ls = '--',color='r',lw=2);\n",
    "textstr = (f\"median characters in a story: {round(visulization_df['story_len'].median())} \\n\"\n",
    "           f\"median words in a story: {round(visulization_df['story_n_words'].median())}\")  \n",
    "props = dict(boxstyle='round', facecolor='wheat', alpha=0.5,edgecolor='black')\n",
    "plt.text(0.65, 0.95, textstr, fontsize=14,transform=ax.transAxes,verticalalignment='top', bbox=props)\n",
    "plt.title(\"The distribution of words and characters in all stories\", pad=20);plt.margins(x=0);"
   ]
  },
  {
   "cell_type": "code",
   "execution_count": 18,
   "metadata": {},
   "outputs": [
    {
     "data": {
      "text/plain": [
       "<matplotlib.axes._subplots.AxesSubplot at 0x2ae88683670>"
      ]
     },
     "execution_count": 18,
     "metadata": {},
     "output_type": "execute_result"
    },
    {
     "data": {
      "image/png": "[encoded data removed]",
      "text/plain": [
       "<Figure size 432x288 with 1 Axes>"
      ]
     },
     "metadata": {
      "needs_background": "light"
     },
     "output_type": "display_data"
    }
   ],
   "source": [
    "sns.lineplot(data=visulization_df, x = 'gender', y='story_len')"
   ]
  },
  {
   "cell_type": "code",
   "execution_count": 19,
   "metadata": {},
   "outputs": [
    {
     "data": {
      "text/plain": [
       "<matplotlib.axes._subplots.AxesSubplot at 0x2ae884cb760>"
      ]
     },
     "execution_count": 19,
     "metadata": {},
     "output_type": "execute_result"
    },
    {
     "data": {
      "image/png": "[encoded data removed]",
      "text/plain": [
       "<Figure size 432x288 with 1 Axes>"
      ]
     },
     "metadata": {
      "needs_background": "light"
     },
     "output_type": "display_data"
    }
   ],
   "source": [
    "sns.lineplot(data=visulization_df, x = 'gender', y='story_n_words')"
   ]
  },
  {
   "cell_type": "code",
   "execution_count": 20,
   "metadata": {},
   "outputs": [
    {
     "data": {
      "text/plain": [
       "<matplotlib.axes._subplots.AxesSubplot at 0x2ae885268e0>"
      ]
     },
     "execution_count": 20,
     "metadata": {},
     "output_type": "execute_result"
    },
    {
     "data": {
      "image/png": "[encoded data removed]",
      "text/plain": [
       "<Figure size 432x288 with 1 Axes>"
      ]
     },
     "metadata": {
      "needs_background": "light"
     },
     "output_type": "display_data"
    }
   ],
   "source": [
    "sns.boxplot(visulization_df.gender, visulization_df.story_len)"
   ]
  },
  {
   "cell_type": "code",
   "execution_count": 21,
   "metadata": {},
   "outputs": [
    {
     "data": {
      "text/plain": [
       "<matplotlib.axes._subplots.AxesSubplot at 0x2ae88580220>"
      ]
     },
     "execution_count": 21,
     "metadata": {},
     "output_type": "execute_result"
    },
    {
     "data": {
      "image/png": "[encoded data removed]",
      "text/plain": [
       "<Figure size 432x288 with 1 Axes>"
      ]
     },
     "metadata": {
      "needs_background": "light"
     },
     "output_type": "display_data"
    }
   ],
   "source": [
    "sns.violinplot(visulization_df.gender, visulization_df.story_len)"
   ]
  },
  {
   "cell_type": "code",
   "execution_count": 22,
   "metadata": {},
   "outputs": [
    {
     "data": {
      "text/plain": [
       "<matplotlib.axes._subplots.AxesSubplot at 0x2ae885f4ca0>"
      ]
     },
     "execution_count": 22,
     "metadata": {},
     "output_type": "execute_result"
    },
    {
     "data": {
      "image/png": "[encoded data removed]",
      "text/plain": [
       "<Figure size 432x288 with 1 Axes>"
      ]
     },
     "metadata": {
      "needs_background": "light"
     },
     "output_type": "display_data"
    }
   ],
   "source": [
    "sns.kdeplot(visulization_df.story_len, shade=True)"
   ]
  },
  {
   "cell_type": "code",
   "execution_count": 23,
   "metadata": {},
   "outputs": [
    {
     "data": {
      "text/plain": [
       "<matplotlib.axes._subplots.AxesSubplot at 0x2ae87c486a0>"
      ]
     },
     "execution_count": 23,
     "metadata": {},
     "output_type": "execute_result"
    },
    {
     "data": {
      "image/png": "[encoded data removed]",
      "text/plain": [
       "<Figure size 432x288 with 1 Axes>"
      ]
     },
     "metadata": {
      "needs_background": "light"
     },
     "output_type": "display_data"
    }
   ],
   "source": [
    "sns.kdeplot(visulization_df.story_n_words, shade=True)"
   ]
  },
  {
   "cell_type": "code",
   "execution_count": 24,
   "metadata": {},
   "outputs": [
    {
     "data": {
      "text/html": [
       "<div>\n",
       "<style scoped>\n",
       "    .dataframe tbody tr th:only-of-type {\n",
       "        vertical-align: middle;\n",
       "    }\n",
       "\n",
       "    .dataframe tbody tr th {\n",
       "        vertical-align: top;\n",
       "    }\n",
       "\n",
       "    .dataframe thead th {\n",
       "        text-align: right;\n",
       "    }\n",
       "</style>\n",
       "<table border=\"1\" class=\"dataframe\">\n",
       "  <thead>\n",
       "    <tr style=\"text-align: right;\">\n",
       "      <th></th>\n",
       "      <th>story_len</th>\n",
       "      <th>story_n_words</th>\n",
       "    </tr>\n",
       "    <tr>\n",
       "      <th>gender</th>\n",
       "      <th></th>\n",
       "      <th></th>\n",
       "    </tr>\n",
       "  </thead>\n",
       "  <tbody>\n",
       "    <tr>\n",
       "      <th>0</th>\n",
       "      <td>1762.064516</td>\n",
       "      <td>324.752688</td>\n",
       "    </tr>\n",
       "    <tr>\n",
       "      <th>1</th>\n",
       "      <td>1777.616236</td>\n",
       "      <td>328.206642</td>\n",
       "    </tr>\n",
       "  </tbody>\n",
       "</table>\n",
       "</div>"
      ],
      "text/plain": [
       "          story_len  story_n_words\n",
       "gender                            \n",
       "0       1762.064516     324.752688\n",
       "1       1777.616236     328.206642"
      ]
     },
     "execution_count": 24,
     "metadata": {},
     "output_type": "execute_result"
    }
   ],
   "source": [
    "mean_analyze = visulization_df.groupby(['gender']).mean()[['story_len', 'story_n_words']]\n",
    "mean_analyze"
   ]
  },
  {
   "cell_type": "markdown",
   "metadata": {},
   "source": [
    "# <span style='font-family:\"Times New Roman\"'> <span styel=''>Data Pre-Processing "
   ]
  },
  {
   "cell_type": "markdown",
   "metadata": {},
   "source": [
    "### <span style='font-family:\"Times New Roman\"'> <span styel=''> clean the text from punctuation, emojis, numbers, urls <br> <br> *Punctuation - !\"#$%&'()*+, -./:;<=>?@[\\]^_`{|}~ </br>"
   ]
  },
  {
   "cell_type": "code",
   "execution_count": 25,
   "metadata": {},
   "outputs": [],
   "source": [
    "train_set_df_copy = df_train.copy()"
   ]
  },
  {
   "cell_type": "code",
   "execution_count": 26,
   "metadata": {},
   "outputs": [],
   "source": [
    "def remove_pe(text, p=string.punctuation):  # string.punctuation is a built in list of all punctuation\n",
    "    \"remove punctuation and emojis\"\n",
    "    text_without = \"\".join([c for c in text if c not in p])\n",
    "    return text_without"
   ]
  },
  {
   "cell_type": "code",
   "execution_count": 27,
   "metadata": {},
   "outputs": [],
   "source": [
    "def removeWeirdChars(text):\n",
    "    weridPatterns = re.compile(\"[\"\n",
    "                               u\"\\U0001F600-\\U0001F64F\"  # emoticons\n",
    "                               u\"\\U0001F300-\\U0001F5FF\"  # symbols & pictographs\n",
    "                               u\"\\U0001F680-\\U0001F6FF\"  # transport & map symbols\n",
    "                               u\"\\U0001F1E0-\\U0001F1FF\"  # flags (iOS)\n",
    "                               u\"\\U00002702-\\U000027B0\"\n",
    "                               u\"\\U000024C2-\\U0001F251\"\n",
    "                               u\"\\U0001f926-\\U0001f937\"\n",
    "                               u'\\U00010000-\\U0010ffff'\n",
    "                               u\"\\u200d\"\n",
    "                               u\"\\u2640-\\u2642\"\n",
    "                               u\"\\u2600-\\u2B55\"\n",
    "                               u\"\\u23cf\"\n",
    "                               u\"\\u23e9\"\n",
    "                               u\"\\u231a\"\n",
    "                               u\"\\u3030\"\n",
    "                               u\"\\ufe0f\"\n",
    "                               u\"\\u2069\"\n",
    "                               u\"\\u2066\"\n",
    "                               u\"\\u200c\"\n",
    "                               u\"\\u2068\"\n",
    "                               u\"\\u2067\"\n",
    "                               \"]+\", flags=re.UNICODE)\n",
    "    return weridPatterns.sub(r'', text)"
   ]
  },
  {
   "cell_type": "code",
   "execution_count": 28,
   "metadata": {},
   "outputs": [],
   "source": [
    "#implementation of 2 functions above\n",
    "\n",
    "train_set_df_copy['clean_text'] = train_set_df_copy['story'].apply(lambda x: remove_pe(x)).apply(lambda x: re.sub(r'[A-Za-z]|http\\S+|[0-9]+', '',x))\\\n",
    "                     .apply(lambda x: removeWeirdChars(x))\n",
    "\n",
    "#regex for url"
   ]
  },
  {
   "cell_type": "code",
   "execution_count": 29,
   "metadata": {},
   "outputs": [
    {
     "data": {
      "text/html": [
       "<div>\n",
       "<style scoped>\n",
       "    .dataframe tbody tr th:only-of-type {\n",
       "        vertical-align: middle;\n",
       "    }\n",
       "\n",
       "    .dataframe tbody tr th {\n",
       "        vertical-align: top;\n",
       "    }\n",
       "\n",
       "    .dataframe thead th {\n",
       "        text-align: right;\n",
       "    }\n",
       "</style>\n",
       "<table border=\"1\" class=\"dataframe\">\n",
       "  <thead>\n",
       "    <tr style=\"text-align: right;\">\n",
       "      <th></th>\n",
       "      <th>clean_text</th>\n",
       "    </tr>\n",
       "  </thead>\n",
       "  <tbody>\n",
       "    <tr>\n",
       "      <th>359</th>\n",
       "      <td>לפני כ שנים התגוררתי למשך שנה בגרמניה מטרת המע...</td>\n",
       "    </tr>\n",
       "    <tr>\n",
       "      <th>360</th>\n",
       "      <td>ביום הבחירות נסענו לבקר את אימי זל בבית הקברות...</td>\n",
       "    </tr>\n",
       "    <tr>\n",
       "      <th>361</th>\n",
       "      <td>בשנה אחרונה חוויתי לראשונה את תהליך חיפוש העבו...</td>\n",
       "    </tr>\n",
       "    <tr>\n",
       "      <th>362</th>\n",
       "      <td>אני סטודנט במכללה בסמסטר א בשנת תשפא נגשתי למב...</td>\n",
       "    </tr>\n",
       "    <tr>\n",
       "      <th>363</th>\n",
       "      <td>‏הייתי מדריכה בכפר נוער ומתאם הכפר היינו צריכי...</td>\n",
       "    </tr>\n",
       "  </tbody>\n",
       "</table>\n",
       "</div>"
      ],
      "text/plain": [
       "                                            clean_text\n",
       "359  לפני כ שנים התגוררתי למשך שנה בגרמניה מטרת המע...\n",
       "360  ביום הבחירות נסענו לבקר את אימי זל בבית הקברות...\n",
       "361  בשנה אחרונה חוויתי לראשונה את תהליך חיפוש העבו...\n",
       "362  אני סטודנט במכללה בסמסטר א בשנת תשפא נגשתי למב...\n",
       "363  ‏הייתי מדריכה בכפר נוער ומתאם הכפר היינו צריכי..."
      ]
     },
     "execution_count": 29,
     "metadata": {},
     "output_type": "execute_result"
    }
   ],
   "source": [
    "train_set_df_copy[[\"clean_text\"]].tail(5)"
   ]
  },
  {
   "cell_type": "markdown",
   "metadata": {},
   "source": [
    "### <span style='font-family:\"Times New Roman\"'> <span styel=''> Stop Words + Tokenization\n"
   ]
  },
  {
   "cell_type": "code",
   "execution_count": 30,
   "metadata": {},
   "outputs": [],
   "source": [
    " with open (\"Stop_Words.txt\", \"r\", encoding=\"UTF-8\") as myfile:\n",
    "        he_s_words = myfile.read().splitlines()"
   ]
  },
  {
   "cell_type": "code",
   "execution_count": 31,
   "metadata": {},
   "outputs": [],
   "source": [
    "def process_text(text):\n",
    "    \n",
    "    # Return tokenized(spliting each text to words) and removing Hebrew stop words & prefix.\n",
    "    \n",
    "    tokens = word_tokenize(text)\n",
    "    \n",
    "    # Removing specific prefix\n",
    "    \n",
    "    prefix_1 = 'ו'\n",
    "    prefix_2 = 'ש'\n",
    "    prefix = 'ל'\n",
    "    \n",
    "    for word in tokens:\n",
    "        \n",
    "        if word.startswith(prefix) or word.startswith(prefix_1) or word.startswith(prefix_2):\n",
    "            word = word[1:] \n",
    "            \n",
    "       \n",
    "    remove_stopwords = [token for token in tokens if token not in he_s_words]\n",
    "    return remove_stopwords"
   ]
  },
  {
   "cell_type": "code",
   "execution_count": 32,
   "metadata": {},
   "outputs": [
    {
     "data": {
      "text/html": [
       "<div>\n",
       "<style scoped>\n",
       "    .dataframe tbody tr th:only-of-type {\n",
       "        vertical-align: middle;\n",
       "    }\n",
       "\n",
       "    .dataframe tbody tr th {\n",
       "        vertical-align: top;\n",
       "    }\n",
       "\n",
       "    .dataframe thead th {\n",
       "        text-align: right;\n",
       "    }\n",
       "</style>\n",
       "<table border=\"1\" class=\"dataframe\">\n",
       "  <thead>\n",
       "    <tr style=\"text-align: right;\">\n",
       "      <th></th>\n",
       "      <th>tokenized_text</th>\n",
       "    </tr>\n",
       "  </thead>\n",
       "  <tbody>\n",
       "    <tr>\n",
       "      <th>0</th>\n",
       "      <td>[אחד, קמתי, סהרורי, יצאתי, מהמיטה, מטושטש, קמת...</td>\n",
       "    </tr>\n",
       "    <tr>\n",
       "      <th>1</th>\n",
       "      <td>[לחבר, היה, הולדת, וחיפשנו, לעשות, לו, הולדת, ...</td>\n",
       "    </tr>\n",
       "    <tr>\n",
       "      <th>2</th>\n",
       "      <td>[האחרונה, הייתה, שנת, קורונה, פשוטה, בקנה, מיד...</td>\n",
       "    </tr>\n",
       "    <tr>\n",
       "      <th>3</th>\n",
       "      <td>[כחצי, עברתי, לגור, בצפון, בת, זוגתי, עברנו, ל...</td>\n",
       "    </tr>\n",
       "    <tr>\n",
       "      <th>4</th>\n",
       "      <td>[חמישי, רגיל, מתחיל, לעבור, טיפה, מאוחר, ללכת,...</td>\n",
       "    </tr>\n",
       "  </tbody>\n",
       "</table>\n",
       "</div>"
      ],
      "text/plain": [
       "                                      tokenized_text\n",
       "0  [אחד, קמתי, סהרורי, יצאתי, מהמיטה, מטושטש, קמת...\n",
       "1  [לחבר, היה, הולדת, וחיפשנו, לעשות, לו, הולדת, ...\n",
       "2  [האחרונה, הייתה, שנת, קורונה, פשוטה, בקנה, מיד...\n",
       "3  [כחצי, עברתי, לגור, בצפון, בת, זוגתי, עברנו, ל...\n",
       "4  [חמישי, רגיל, מתחיל, לעבור, טיפה, מאוחר, ללכת,..."
      ]
     },
     "execution_count": 32,
     "metadata": {},
     "output_type": "execute_result"
    }
   ],
   "source": [
    "train_set_df_copy['tokenized_text'] = train_set_df_copy['clean_text'].apply(process_text)\n",
    "train_set_df_copy[['tokenized_text']].head()"
   ]
  },
  {
   "cell_type": "code",
   "execution_count": 33,
   "metadata": {},
   "outputs": [
    {
     "data": {
      "text/html": [
       "<div>\n",
       "<style scoped>\n",
       "    .dataframe tbody tr th:only-of-type {\n",
       "        vertical-align: middle;\n",
       "    }\n",
       "\n",
       "    .dataframe tbody tr th {\n",
       "        vertical-align: top;\n",
       "    }\n",
       "\n",
       "    .dataframe thead th {\n",
       "        text-align: right;\n",
       "    }\n",
       "</style>\n",
       "<table border=\"1\" class=\"dataframe\">\n",
       "  <thead>\n",
       "    <tr style=\"text-align: right;\">\n",
       "      <th></th>\n",
       "      <th>tokenized_text</th>\n",
       "    </tr>\n",
       "  </thead>\n",
       "  <tbody>\n",
       "    <tr>\n",
       "      <th>359</th>\n",
       "      <td>[התגוררתי, למשך, בגרמניה, מטרת, המעבר, לשם, הי...</td>\n",
       "    </tr>\n",
       "    <tr>\n",
       "      <th>360</th>\n",
       "      <td>[הבחירות, נסענו, לבקר, את, אימי, זל, הקברות, ה...</td>\n",
       "    </tr>\n",
       "    <tr>\n",
       "      <th>361</th>\n",
       "      <td>[בשנה, אחרונה, חוויתי, לראשונה, את, תהליך, חיפ...</td>\n",
       "    </tr>\n",
       "    <tr>\n",
       "      <th>362</th>\n",
       "      <td>[סטודנט, במכללה, בסמסטר, בשנת, תשפא, נגשתי, למ...</td>\n",
       "    </tr>\n",
       "    <tr>\n",
       "      <th>363</th>\n",
       "      <td>[‏הייתי, מדריכה, בכפר, נוער, ומתאם, הכפר, היינ...</td>\n",
       "    </tr>\n",
       "  </tbody>\n",
       "</table>\n",
       "</div>"
      ],
      "text/plain": [
       "                                        tokenized_text\n",
       "359  [התגוררתי, למשך, בגרמניה, מטרת, המעבר, לשם, הי...\n",
       "360  [הבחירות, נסענו, לבקר, את, אימי, זל, הקברות, ה...\n",
       "361  [בשנה, אחרונה, חוויתי, לראשונה, את, תהליך, חיפ...\n",
       "362  [סטודנט, במכללה, בסמסטר, בשנת, תשפא, נגשתי, למ...\n",
       "363  [‏הייתי, מדריכה, בכפר, נוער, ומתאם, הכפר, היינ..."
      ]
     },
     "execution_count": 33,
     "metadata": {},
     "output_type": "execute_result"
    }
   ],
   "source": [
    "train_set_df_copy[['tokenized_text']].tail(5)"
   ]
  },
  {
   "cell_type": "code",
   "execution_count": 34,
   "metadata": {},
   "outputs": [
    {
     "name": "stdout",
     "output_type": "stream",
     "text": [
      "Out of 117828 words in 364 texts, 33042 stop words were removed.\n"
     ]
    }
   ],
   "source": [
    "print(f\"Out of {train_set_df_copy.clean_text.str.split(' ').str.len().sum()} words in {len(train_set_df_copy)} texts\"\\\n",
    "     f\", {train_set_df_copy.clean_text.str.split(' ').str.len().sum() - train_set_df_copy.tokenized_text.str.len().sum()} stop words were removed.\") "
   ]
  },
  {
   "cell_type": "code",
   "execution_count": 35,
   "metadata": {
    "scrolled": true
   },
   "outputs": [
    {
     "data": {
      "text/html": [
       "<div>\n",
       "<style scoped>\n",
       "    .dataframe tbody tr th:only-of-type {\n",
       "        vertical-align: middle;\n",
       "    }\n",
       "\n",
       "    .dataframe tbody tr th {\n",
       "        vertical-align: top;\n",
       "    }\n",
       "\n",
       "    .dataframe thead th {\n",
       "        text-align: right;\n",
       "    }\n",
       "</style>\n",
       "<table border=\"1\" class=\"dataframe\">\n",
       "  <thead>\n",
       "    <tr style=\"text-align: right;\">\n",
       "      <th></th>\n",
       "      <th>story</th>\n",
       "      <th>gender</th>\n",
       "      <th>clean_text</th>\n",
       "      <th>tokenized_text</th>\n",
       "    </tr>\n",
       "  </thead>\n",
       "  <tbody>\n",
       "    <tr>\n",
       "      <th>0</th>\n",
       "      <td>בוקר אחד קמתי סהרורי יצאתי מהמיטה קצת מטושטש ,...</td>\n",
       "      <td>1</td>\n",
       "      <td>בוקר אחד קמתי סהרורי יצאתי מהמיטה קצת מטושטש  ...</td>\n",
       "      <td>[אחד, קמתי, סהרורי, יצאתי, מהמיטה, מטושטש, קמת...</td>\n",
       "    </tr>\n",
       "    <tr>\n",
       "      <th>1</th>\n",
       "      <td>לחבר שלי היה יום הולדת וחיפשנו מה אפשר לעשות ל...</td>\n",
       "      <td>1</td>\n",
       "      <td>לחבר שלי היה יום הולדת וחיפשנו מה אפשר לעשות ל...</td>\n",
       "      <td>[לחבר, היה, הולדת, וחיפשנו, לעשות, לו, הולדת, ...</td>\n",
       "    </tr>\n",
       "    <tr>\n",
       "      <th>2</th>\n",
       "      <td>השנה האחרונה הייתה שנת קורונה, שנה לא פשוטה בק...</td>\n",
       "      <td>1</td>\n",
       "      <td>השנה האחרונה הייתה שנת קורונה שנה לא פשוטה בקנ...</td>\n",
       "      <td>[האחרונה, הייתה, שנת, קורונה, פשוטה, בקנה, מיד...</td>\n",
       "    </tr>\n",
       "    <tr>\n",
       "      <th>3</th>\n",
       "      <td>לפני כחצי שנה עברתי לגור בצפון עם בת זוגתי, עב...</td>\n",
       "      <td>1</td>\n",
       "      <td>לפני כחצי שנה עברתי לגור בצפון עם בת זוגתי עבר...</td>\n",
       "      <td>[כחצי, עברתי, לגור, בצפון, בת, זוגתי, עברנו, ל...</td>\n",
       "    </tr>\n",
       "    <tr>\n",
       "      <th>4</th>\n",
       "      <td>יום חמישי רגיל, תמיד מתחיל לעבור טיפה מאוחר יו...</td>\n",
       "      <td>1</td>\n",
       "      <td>יום חמישי רגיל תמיד מתחיל לעבור טיפה מאוחר יות...</td>\n",
       "      <td>[חמישי, רגיל, מתחיל, לעבור, טיפה, מאוחר, ללכת,...</td>\n",
       "    </tr>\n",
       "  </tbody>\n",
       "</table>\n",
       "</div>"
      ],
      "text/plain": [
       "                                               story  gender  \\\n",
       "0  בוקר אחד קמתי סהרורי יצאתי מהמיטה קצת מטושטש ,...       1   \n",
       "1  לחבר שלי היה יום הולדת וחיפשנו מה אפשר לעשות ל...       1   \n",
       "2  השנה האחרונה הייתה שנת קורונה, שנה לא פשוטה בק...       1   \n",
       "3  לפני כחצי שנה עברתי לגור בצפון עם בת זוגתי, עב...       1   \n",
       "4  יום חמישי רגיל, תמיד מתחיל לעבור טיפה מאוחר יו...       1   \n",
       "\n",
       "                                          clean_text  \\\n",
       "0  בוקר אחד קמתי סהרורי יצאתי מהמיטה קצת מטושטש  ...   \n",
       "1  לחבר שלי היה יום הולדת וחיפשנו מה אפשר לעשות ל...   \n",
       "2  השנה האחרונה הייתה שנת קורונה שנה לא פשוטה בקנ...   \n",
       "3  לפני כחצי שנה עברתי לגור בצפון עם בת זוגתי עבר...   \n",
       "4  יום חמישי רגיל תמיד מתחיל לעבור טיפה מאוחר יות...   \n",
       "\n",
       "                                      tokenized_text  \n",
       "0  [אחד, קמתי, סהרורי, יצאתי, מהמיטה, מטושטש, קמת...  \n",
       "1  [לחבר, היה, הולדת, וחיפשנו, לעשות, לו, הולדת, ...  \n",
       "2  [האחרונה, הייתה, שנת, קורונה, פשוטה, בקנה, מיד...  \n",
       "3  [כחצי, עברתי, לגור, בצפון, בת, זוגתי, עברנו, ל...  \n",
       "4  [חמישי, רגיל, מתחיל, לעבור, טיפה, מאוחר, ללכת,...  "
      ]
     },
     "execution_count": 35,
     "metadata": {},
     "output_type": "execute_result"
    }
   ],
   "source": [
    "train_set_df_copy.head()"
   ]
  },
  {
   "cell_type": "markdown",
   "metadata": {},
   "source": [
    "### An example to the difference between text's length before and after removing stop words"
   ]
  },
  {
   "cell_type": "code",
   "execution_count": 36,
   "metadata": {},
   "outputs": [
    {
     "data": {
      "text/plain": [
       "355"
      ]
     },
     "execution_count": 36,
     "metadata": {},
     "output_type": "execute_result"
    }
   ],
   "source": [
    "words = (train_set_df_copy.iloc[3,2]).split()\n",
    "totalwords = len(words)\n",
    "totalwords # num of words before removing stop words"
   ]
  },
  {
   "cell_type": "code",
   "execution_count": 37,
   "metadata": {},
   "outputs": [
    {
     "data": {
      "text/plain": [
       "234"
      ]
     },
     "execution_count": 37,
     "metadata": {},
     "output_type": "execute_result"
    }
   ],
   "source": [
    "len(train_set_df_copy.iloc[3,3]) # num of words after removing stop words"
   ]
  },
  {
   "cell_type": "markdown",
   "metadata": {},
   "source": [
    "### <span style='font-family:\"Times New Roman\"'> <span styel=''> Creating new column which includes clean text after removing punctuation and stop words"
   ]
  },
  {
   "cell_type": "code",
   "execution_count": 38,
   "metadata": {},
   "outputs": [],
   "source": [
    "def list_to_string(lst):  \n",
    "    str1 = \" \"\n",
    "    return (str1.join(lst))"
   ]
  },
  {
   "cell_type": "code",
   "execution_count": 39,
   "metadata": {},
   "outputs": [],
   "source": [
    "train_set_df_copy['tokenized_clean_text'] = train_set_df_copy['tokenized_text'].apply(lambda x: list_to_string(x))"
   ]
  },
  {
   "cell_type": "code",
   "execution_count": 40,
   "metadata": {},
   "outputs": [
    {
     "data": {
      "text/html": [
       "<div>\n",
       "<style scoped>\n",
       "    .dataframe tbody tr th:only-of-type {\n",
       "        vertical-align: middle;\n",
       "    }\n",
       "\n",
       "    .dataframe tbody tr th {\n",
       "        vertical-align: top;\n",
       "    }\n",
       "\n",
       "    .dataframe thead th {\n",
       "        text-align: right;\n",
       "    }\n",
       "</style>\n",
       "<table border=\"1\" class=\"dataframe\">\n",
       "  <thead>\n",
       "    <tr style=\"text-align: right;\">\n",
       "      <th></th>\n",
       "      <th>story</th>\n",
       "      <th>gender</th>\n",
       "      <th>clean_text</th>\n",
       "      <th>tokenized_text</th>\n",
       "      <th>tokenized_clean_text</th>\n",
       "    </tr>\n",
       "  </thead>\n",
       "  <tbody>\n",
       "    <tr>\n",
       "      <th>0</th>\n",
       "      <td>בוקר אחד קמתי סהרורי יצאתי מהמיטה קצת מטושטש ,...</td>\n",
       "      <td>1</td>\n",
       "      <td>בוקר אחד קמתי סהרורי יצאתי מהמיטה קצת מטושטש  ...</td>\n",
       "      <td>[אחד, קמתי, סהרורי, יצאתי, מהמיטה, מטושטש, קמת...</td>\n",
       "      <td>אחד קמתי סהרורי יצאתי מהמיטה מטושטש קמתי בצעדי...</td>\n",
       "    </tr>\n",
       "    <tr>\n",
       "      <th>1</th>\n",
       "      <td>לחבר שלי היה יום הולדת וחיפשנו מה אפשר לעשות ל...</td>\n",
       "      <td>1</td>\n",
       "      <td>לחבר שלי היה יום הולדת וחיפשנו מה אפשר לעשות ל...</td>\n",
       "      <td>[לחבר, היה, הולדת, וחיפשנו, לעשות, לו, הולדת, ...</td>\n",
       "      <td>לחבר היה הולדת וחיפשנו לעשות לו הולדת מנת לחגו...</td>\n",
       "    </tr>\n",
       "    <tr>\n",
       "      <th>2</th>\n",
       "      <td>השנה האחרונה הייתה שנת קורונה, שנה לא פשוטה בק...</td>\n",
       "      <td>1</td>\n",
       "      <td>השנה האחרונה הייתה שנת קורונה שנה לא פשוטה בקנ...</td>\n",
       "      <td>[האחרונה, הייתה, שנת, קורונה, פשוטה, בקנה, מיד...</td>\n",
       "      <td>האחרונה הייתה שנת קורונה פשוטה בקנה מידה אוניב...</td>\n",
       "    </tr>\n",
       "    <tr>\n",
       "      <th>3</th>\n",
       "      <td>לפני כחצי שנה עברתי לגור בצפון עם בת זוגתי, עב...</td>\n",
       "      <td>1</td>\n",
       "      <td>לפני כחצי שנה עברתי לגור בצפון עם בת זוגתי עבר...</td>\n",
       "      <td>[כחצי, עברתי, לגור, בצפון, בת, זוגתי, עברנו, ל...</td>\n",
       "      <td>כחצי עברתי לגור בצפון בת זוגתי עברנו לקיבוץ עמ...</td>\n",
       "    </tr>\n",
       "    <tr>\n",
       "      <th>4</th>\n",
       "      <td>יום חמישי רגיל, תמיד מתחיל לעבור טיפה מאוחר יו...</td>\n",
       "      <td>1</td>\n",
       "      <td>יום חמישי רגיל תמיד מתחיל לעבור טיפה מאוחר יות...</td>\n",
       "      <td>[חמישי, רגיל, מתחיל, לעבור, טיפה, מאוחר, ללכת,...</td>\n",
       "      <td>חמישי רגיל מתחיל לעבור טיפה מאוחר ללכת בבוקר ל...</td>\n",
       "    </tr>\n",
       "  </tbody>\n",
       "</table>\n",
       "</div>"
      ],
      "text/plain": [
       "                                               story  gender  \\\n",
       "0  בוקר אחד קמתי סהרורי יצאתי מהמיטה קצת מטושטש ,...       1   \n",
       "1  לחבר שלי היה יום הולדת וחיפשנו מה אפשר לעשות ל...       1   \n",
       "2  השנה האחרונה הייתה שנת קורונה, שנה לא פשוטה בק...       1   \n",
       "3  לפני כחצי שנה עברתי לגור בצפון עם בת זוגתי, עב...       1   \n",
       "4  יום חמישי רגיל, תמיד מתחיל לעבור טיפה מאוחר יו...       1   \n",
       "\n",
       "                                          clean_text  \\\n",
       "0  בוקר אחד קמתי סהרורי יצאתי מהמיטה קצת מטושטש  ...   \n",
       "1  לחבר שלי היה יום הולדת וחיפשנו מה אפשר לעשות ל...   \n",
       "2  השנה האחרונה הייתה שנת קורונה שנה לא פשוטה בקנ...   \n",
       "3  לפני כחצי שנה עברתי לגור בצפון עם בת זוגתי עבר...   \n",
       "4  יום חמישי רגיל תמיד מתחיל לעבור טיפה מאוחר יות...   \n",
       "\n",
       "                                      tokenized_text  \\\n",
       "0  [אחד, קמתי, סהרורי, יצאתי, מהמיטה, מטושטש, קמת...   \n",
       "1  [לחבר, היה, הולדת, וחיפשנו, לעשות, לו, הולדת, ...   \n",
       "2  [האחרונה, הייתה, שנת, קורונה, פשוטה, בקנה, מיד...   \n",
       "3  [כחצי, עברתי, לגור, בצפון, בת, זוגתי, עברנו, ל...   \n",
       "4  [חמישי, רגיל, מתחיל, לעבור, טיפה, מאוחר, ללכת,...   \n",
       "\n",
       "                                tokenized_clean_text  \n",
       "0  אחד קמתי סהרורי יצאתי מהמיטה מטושטש קמתי בצעדי...  \n",
       "1  לחבר היה הולדת וחיפשנו לעשות לו הולדת מנת לחגו...  \n",
       "2  האחרונה הייתה שנת קורונה פשוטה בקנה מידה אוניב...  \n",
       "3  כחצי עברתי לגור בצפון בת זוגתי עברנו לקיבוץ עמ...  \n",
       "4  חמישי רגיל מתחיל לעבור טיפה מאוחר ללכת בבוקר ל...  "
      ]
     },
     "execution_count": 40,
     "metadata": {},
     "output_type": "execute_result"
    }
   ],
   "source": [
    "train_set_df_copy.head()"
   ]
  },
  {
   "cell_type": "markdown",
   "metadata": {},
   "source": [
    "# <span style='font-family:\"Times New Roman\"'> <span styel=''> Machine Learning"
   ]
  },
  {
   "cell_type": "code",
   "execution_count": 41,
   "metadata": {},
   "outputs": [],
   "source": [
    "model_df = train_set_df_copy.copy()"
   ]
  },
  {
   "cell_type": "code",
   "execution_count": 42,
   "metadata": {},
   "outputs": [],
   "source": [
    "model_df.drop(['story', 'clean_text', 'tokenized_text'], axis=1, inplace=True)"
   ]
  },
  {
   "cell_type": "markdown",
   "metadata": {},
   "source": [
    "The dataframe which going to be trained"
   ]
  },
  {
   "cell_type": "code",
   "execution_count": 43,
   "metadata": {},
   "outputs": [
    {
     "data": {
      "text/html": [
       "<div>\n",
       "<style scoped>\n",
       "    .dataframe tbody tr th:only-of-type {\n",
       "        vertical-align: middle;\n",
       "    }\n",
       "\n",
       "    .dataframe tbody tr th {\n",
       "        vertical-align: top;\n",
       "    }\n",
       "\n",
       "    .dataframe thead th {\n",
       "        text-align: right;\n",
       "    }\n",
       "</style>\n",
       "<table border=\"1\" class=\"dataframe\">\n",
       "  <thead>\n",
       "    <tr style=\"text-align: right;\">\n",
       "      <th></th>\n",
       "      <th>gender</th>\n",
       "      <th>tokenized_clean_text</th>\n",
       "    </tr>\n",
       "  </thead>\n",
       "  <tbody>\n",
       "    <tr>\n",
       "      <th>0</th>\n",
       "      <td>1</td>\n",
       "      <td>אחד קמתי סהרורי יצאתי מהמיטה מטושטש קמתי בצעדי...</td>\n",
       "    </tr>\n",
       "    <tr>\n",
       "      <th>1</th>\n",
       "      <td>1</td>\n",
       "      <td>לחבר היה הולדת וחיפשנו לעשות לו הולדת מנת לחגו...</td>\n",
       "    </tr>\n",
       "    <tr>\n",
       "      <th>2</th>\n",
       "      <td>1</td>\n",
       "      <td>האחרונה הייתה שנת קורונה פשוטה בקנה מידה אוניב...</td>\n",
       "    </tr>\n",
       "    <tr>\n",
       "      <th>3</th>\n",
       "      <td>1</td>\n",
       "      <td>כחצי עברתי לגור בצפון בת זוגתי עברנו לקיבוץ עמ...</td>\n",
       "    </tr>\n",
       "    <tr>\n",
       "      <th>4</th>\n",
       "      <td>1</td>\n",
       "      <td>חמישי רגיל מתחיל לעבור טיפה מאוחר ללכת בבוקר ל...</td>\n",
       "    </tr>\n",
       "  </tbody>\n",
       "</table>\n",
       "</div>"
      ],
      "text/plain": [
       "   gender                               tokenized_clean_text\n",
       "0       1  אחד קמתי סהרורי יצאתי מהמיטה מטושטש קמתי בצעדי...\n",
       "1       1  לחבר היה הולדת וחיפשנו לעשות לו הולדת מנת לחגו...\n",
       "2       1  האחרונה הייתה שנת קורונה פשוטה בקנה מידה אוניב...\n",
       "3       1  כחצי עברתי לגור בצפון בת זוגתי עברנו לקיבוץ עמ...\n",
       "4       1  חמישי רגיל מתחיל לעבור טיפה מאוחר ללכת בבוקר ל..."
      ]
     },
     "execution_count": 43,
     "metadata": {},
     "output_type": "execute_result"
    }
   ],
   "source": [
    "model_df.head()"
   ]
  },
  {
   "cell_type": "code",
   "execution_count": 44,
   "metadata": {},
   "outputs": [],
   "source": [
    "visulization_df_2 = model_df.copy()"
   ]
  },
  {
   "cell_type": "code",
   "execution_count": 45,
   "metadata": {},
   "outputs": [
    {
     "data": {
      "image/png": "[encoded data removed]",
      "text/plain": [
       "<Figure size 1008x504 with 1 Axes>"
      ]
     },
     "metadata": {
      "needs_background": "light"
     },
     "output_type": "display_data"
    }
   ],
   "source": [
    "visulization_df_2['story_len'] = visulization_df_2['tokenized_clean_text'].map(lambda x: len(x))\n",
    "visulization_df_2['story_n_words'] = visulization_df_2['tokenized_clean_text'].map(lambda x: len(x.split()))\n",
    "fig, ax = plt.subplots(figsize=(14,7))\n",
    "visulization_df_2.story_len.plot(kind='hist',edgecolor=\"k\");\n",
    "visulization_df_2.story_n_words.plot(kind='hist',color='r',edgecolor=\"k\", alpha=0.7);\n",
    "plt.axvline(visulization_df_2['story_len'].median(), ls = '--',color='r',lw=2);\n",
    "plt.axvline(visulization_df_2['story_n_words'].median(), ls = '--',color='r',lw=2);\n",
    "textstr = (f\"median characters in a story: {round(visulization_df_2['story_len'].median())} \\n\"\n",
    "           f\"median words in a story: {round(visulization_df_2['story_n_words'].median())}\")  \n",
    "props = dict(boxstyle='round', facecolor='wheat', alpha=0.5,edgecolor='black')\n",
    "plt.text(0.65, 0.95, textstr, fontsize=14,transform=ax.transAxes,verticalalignment='top', bbox=props)\n",
    "plt.title(\"The distribution of words and characters in all stories\", pad=20);plt.margins(x=0);"
   ]
  },
  {
   "cell_type": "code",
   "execution_count": 46,
   "metadata": {},
   "outputs": [
    {
     "data": {
      "text/plain": [
       "CountVectorizer(max_features=7000)"
      ]
     },
     "execution_count": 46,
     "metadata": {},
     "output_type": "execute_result"
    }
   ],
   "source": [
    "vectorizer = CountVectorizer(max_features=7000)\n",
    "\n",
    "# Fit the vectors\n",
    "vectorizer.fit(model_df.tokenized_clean_text)\n",
    "vector = vectorizer.transform(model_df.tokenized_clean_text) # matrix of 364 texts by tokens"
   ]
  },
  {
   "cell_type": "code",
   "execution_count": 47,
   "metadata": {},
   "outputs": [
    {
     "data": {
      "text/plain": [
       "Pipeline(steps=[('linearsvc', LinearSVC())])"
      ]
     },
     "execution_count": 47,
     "metadata": {},
     "output_type": "execute_result"
    },
    {
     "name": "stdout",
     "output_type": "stream",
     "text": [
      "Total accuracy classification score: 0.83\n",
      "Total F1 classification score: 0.76\n"
     ]
    }
   ],
   "source": [
    "vector_test = vectorizer.transform(df_test.story)\n",
    "classifier = make_pipeline(LinearSVC())\n",
    "classifier.fit(vector, model_df.gender)\n",
    "\n",
    "pred_test = classifier.predict(vector_test)\n",
    "\n",
    "acc_test = accuracy_score(df_test.gender, pred_test)\n",
    "f1_test = f1_score(df_test.gender, pred_test, average='macro')\n",
    "print('Total accuracy classification score: {:.2f}'.format(acc_test))\n",
    "print('Total F1 classification score: {:.2f}'.format(f1_test))"
   ]
  },
  {
   "cell_type": "markdown",
   "metadata": {},
   "source": [
    "### Evaluate the model only by train_df"
   ]
  },
  {
   "cell_type": "code",
   "execution_count": 48,
   "metadata": {},
   "outputs": [
    {
     "data": {
      "text/plain": [
       "Pipeline(steps=[('linearsvc', LinearSVC())])"
      ]
     },
     "execution_count": 48,
     "metadata": {},
     "output_type": "execute_result"
    },
    {
     "name": "stdout",
     "output_type": "stream",
     "text": [
      "Total accuracy classification score: 0.85\n",
      "Total F1 classification score: 0.73\n",
      "Total precision classification score: 0.86\n",
      "Total recall classification score: 0.96\n"
     ]
    }
   ],
   "source": [
    "X_train,X_test,y_train,y_test = train_test_split(vector, df_train.gender, test_size=0.2, random_state=36)\n",
    "classifier = make_pipeline(LinearSVC())\n",
    "classifier.fit(X_train, y_train)\n",
    "\n",
    "pred_test_split = classifier.predict(X_test)\n",
    "\n",
    "acc_test = accuracy_score(y_test, pred_test_split)\n",
    "f1_test = f1_score(y_test, pred_test_split, average='macro')\n",
    "prec_test = precision_score(y_test, pred_test_split)\n",
    "recall_test = recall_score(y_test, pred_test_split)\n",
    "print('Total accuracy classification score: {:.2f}'.format(acc_test))\n",
    "print('Total F1 classification score: {:.2f}'.format(f1_test))\n",
    "print('Total precision classification score: {:.2f}'.format(prec_test))\n",
    "print('Total recall classification score: {:.2f}'.format(recall_test))"
   ]
  },
  {
   "cell_type": "markdown",
   "metadata": {},
   "source": [
    "### Evaluate the model  by test_df, while trying different models"
   ]
  },
  {
   "cell_type": "code",
   "execution_count": 49,
   "metadata": {},
   "outputs": [
    {
     "data": {
      "text/plain": [
       "Pipeline(steps=[('logisticregression', LogisticRegression())])"
      ]
     },
     "execution_count": 49,
     "metadata": {},
     "output_type": "execute_result"
    },
    {
     "name": "stdout",
     "output_type": "stream",
     "text": [
      "[1 1 1 1 1 1 1 1 1 1 1 1 0 1 1 0 1 1 1 1 1 1 1 1 1 1 1 1 1 1 1 1 1 1 1 1 1\n",
      " 0 1 0 1 1 1 1 1 1 1 1 1 1 0 0 1 1 0 0 1 1 1 1 1 1 1 1 1 1 1 0 1 1 1 1 1 1\n",
      " 1 1 1 1 1 1 1 1 1 0 1 1 0 1 1 1 1 1 1 1 1 1 1 1 1 1 1 1 1 1 1 1 1 1 1 1 0\n",
      " 1 1 1 1 1 1 1 1 1 1 0 0 1 1 0 1 1 1 1 1 1 1 1 1 1 1 1 1 1 1 1 1 1 1 1 1 1\n",
      " 1 1 1 1 1 1 1 1]\n"
     ]
    },
    {
     "data": {
      "text/plain": [
       "Pipeline(steps=[('decisiontreeclassifier', DecisionTreeClassifier())])"
      ]
     },
     "execution_count": 49,
     "metadata": {},
     "output_type": "execute_result"
    },
    {
     "name": "stdout",
     "output_type": "stream",
     "text": [
      "[1 0 1 1 1 1 1 1 1 1 1 1 1 1 1 1 0 0 0 1 1 1 1 1 1 1 1 1 0 1 1 0 1 1 0 0 1\n",
      " 1 1 1 1 1 0 1 1 1 1 1 1 1 1 0 1 1 0 0 1 1 1 1 1 1 1 1 0 1 1 1 1 1 1 0 0 1\n",
      " 1 1 1 1 1 1 1 0 1 1 1 1 1 1 1 1 1 1 1 1 1 0 1 1 1 1 1 1 1 0 1 1 1 1 1 1 0\n",
      " 1 1 1 1 1 1 1 1 1 1 1 1 1 1 0 1 1 1 0 1 1 1 1 1 1 0 1 1 1 0 1 1 1 1 1 0 0\n",
      " 1 1 0 1 1 1 1 1]\n"
     ]
    },
    {
     "data": {
      "text/plain": [
       "Pipeline(steps=[('randomforestclassifier', RandomForestClassifier())])"
      ]
     },
     "execution_count": 49,
     "metadata": {},
     "output_type": "execute_result"
    },
    {
     "name": "stdout",
     "output_type": "stream",
     "text": [
      "[1 1 1 1 1 1 1 1 1 1 1 1 1 1 1 1 1 1 1 1 1 1 1 1 1 1 0 1 1 1 1 1 1 1 1 1 1\n",
      " 1 1 1 1 1 1 1 1 1 1 1 1 1 1 1 1 1 1 0 1 1 1 1 1 1 1 1 1 1 1 1 1 1 1 1 1 1\n",
      " 1 1 1 1 1 1 1 1 1 1 1 1 1 1 1 1 1 1 1 1 1 1 1 1 1 1 1 1 1 1 1 1 1 1 1 1 1\n",
      " 1 1 1 1 1 1 1 1 1 1 1 1 1 1 1 1 1 1 1 1 1 1 1 1 1 1 1 1 1 1 1 1 1 1 1 1 1\n",
      " 1 1 1 1 1 1 1 1]\n"
     ]
    },
    {
     "data": {
      "text/plain": [
       "Pipeline(steps=[('svc', SVC(gamma=0.001, kernel='linear'))])"
      ]
     },
     "execution_count": 49,
     "metadata": {},
     "output_type": "execute_result"
    },
    {
     "name": "stdout",
     "output_type": "stream",
     "text": [
      "[1 1 1 1 1 1 1 1 1 1 1 1 0 1 1 0 1 0 1 1 1 1 1 1 1 1 0 1 1 1 1 0 1 0 1 1 1\n",
      " 0 1 0 0 1 1 1 1 1 1 1 1 1 0 0 1 1 0 0 1 1 1 1 1 1 1 1 1 1 1 0 0 1 1 0 1 1\n",
      " 1 1 1 1 1 1 1 1 1 0 1 1 0 1 1 1 1 1 1 1 1 1 1 1 1 1 1 1 1 1 1 1 1 1 1 1 0\n",
      " 1 1 1 1 1 1 1 1 1 1 0 0 0 1 0 1 1 1 1 1 1 1 0 1 1 1 1 1 1 1 1 1 1 1 1 1 0\n",
      " 1 1 1 1 1 1 1 1]\n"
     ]
    },
    {
     "data": {
      "text/plain": [
       "Pipeline(steps=[('linearsvc', LinearSVC())])"
      ]
     },
     "execution_count": 49,
     "metadata": {},
     "output_type": "execute_result"
    },
    {
     "name": "stdout",
     "output_type": "stream",
     "text": [
      "[1 1 0 1 1 1 1 1 1 1 1 1 0 1 1 0 1 1 1 1 1 1 1 1 1 1 0 1 1 1 0 0 1 0 1 1 1\n",
      " 0 1 0 1 1 1 1 1 1 1 1 1 1 0 0 1 1 0 0 1 0 1 1 1 1 1 1 0 1 1 0 0 1 1 0 1 1\n",
      " 1 1 1 1 1 1 1 1 1 0 1 1 0 1 1 1 1 1 1 1 1 1 1 1 1 1 1 1 1 1 1 1 1 1 1 1 0\n",
      " 1 1 1 1 1 1 1 1 1 1 0 0 0 1 0 1 1 1 1 1 1 1 1 1 1 0 1 1 1 1 1 1 1 1 1 1 0\n",
      " 1 1 1 1 1 1 1 0]\n"
     ]
    },
    {
     "data": {
      "text/plain": [
       "Pipeline(steps=[('kneighborsclassifier',\n",
       "                 KNeighborsClassifier(metric='manhattan', n_neighbors=9))])"
      ]
     },
     "execution_count": 49,
     "metadata": {},
     "output_type": "execute_result"
    },
    {
     "name": "stdout",
     "output_type": "stream",
     "text": [
      "[1 1 1 1 1 1 1 1 1 1 1 1 1 1 1 1 1 1 1 1 1 1 1 1 1 1 1 1 1 1 1 1 1 1 1 1 1\n",
      " 1 1 1 1 1 1 1 1 1 1 1 1 1 1 1 1 1 1 1 1 1 1 1 1 1 1 1 1 1 1 1 1 1 1 1 1 1\n",
      " 1 1 1 1 1 1 1 1 1 1 1 1 1 1 1 1 1 1 1 1 1 1 1 1 1 1 1 1 1 1 1 1 1 1 1 1 1\n",
      " 1 1 1 1 1 1 1 1 1 1 1 1 1 1 1 1 1 1 1 1 1 1 1 1 1 1 1 1 1 1 1 1 1 1 1 1 1\n",
      " 1 1 1 1 1 1 1 1]\n"
     ]
    },
    {
     "data": {
      "text/plain": [
       "Pipeline(steps=[('adaboostclassifier', AdaBoostClassifier())])"
      ]
     },
     "execution_count": 49,
     "metadata": {},
     "output_type": "execute_result"
    },
    {
     "name": "stdout",
     "output_type": "stream",
     "text": [
      "[1 0 1 0 1 1 1 1 1 1 1 1 1 1 0 1 0 1 0 0 1 1 1 1 1 1 0 1 1 0 1 0 1 1 1 1 1\n",
      " 1 1 1 1 1 1 1 1 1 1 1 1 0 0 0 1 1 0 0 1 1 1 1 0 1 1 0 1 1 1 0 0 1 1 1 0 1\n",
      " 1 1 1 1 1 1 1 1 0 1 1 1 1 1 1 1 1 1 1 0 1 1 1 1 0 1 1 1 1 1 1 0 1 1 1 1 0\n",
      " 1 1 1 1 1 1 1 1 1 1 1 1 1 1 0 1 1 0 1 1 0 1 1 1 1 1 1 1 1 1 1 0 1 1 1 0 0\n",
      " 1 1 1 1 1 1 1 1]\n"
     ]
    },
    {
     "data": {
      "text/plain": [
       "Pipeline(steps=[('multinomialnb', MultinomialNB())])"
      ]
     },
     "execution_count": 49,
     "metadata": {},
     "output_type": "execute_result"
    },
    {
     "name": "stdout",
     "output_type": "stream",
     "text": [
      "[1 1 1 1 1 1 1 1 1 1 1 1 1 1 1 1 1 1 1 1 1 1 1 1 1 1 1 1 1 1 1 0 0 1 1 1 1\n",
      " 1 1 1 1 1 1 1 1 1 1 1 1 1 0 0 1 1 1 0 1 1 1 1 1 1 1 1 1 1 1 0 1 1 1 1 1 1\n",
      " 1 1 0 1 1 1 1 1 1 1 1 1 1 1 1 1 1 1 1 1 1 1 1 1 1 1 1 1 1 1 1 1 1 1 1 1 1\n",
      " 1 1 1 1 1 1 1 1 1 1 1 0 1 0 1 1 1 1 1 1 1 1 1 1 1 0 1 1 1 1 1 1 1 1 1 1 1\n",
      " 1 1 1 1 1 1 1 0]\n"
     ]
    },
    {
     "data": {
      "text/plain": [
       "Pipeline(steps=[('perceptron', Perceptron())])"
      ]
     },
     "execution_count": 49,
     "metadata": {},
     "output_type": "execute_result"
    },
    {
     "name": "stdout",
     "output_type": "stream",
     "text": [
      "[1 1 1 1 1 1 1 0 1 1 1 1 0 1 1 0 1 0 1 1 1 1 1 1 1 1 0 1 1 1 1 0 1 0 0 1 1\n",
      " 0 1 0 0 1 1 1 1 1 1 1 1 1 0 0 1 1 0 0 1 1 1 1 1 1 1 1 1 0 1 0 0 1 1 1 1 1\n",
      " 1 1 1 1 1 1 1 1 0 1 1 1 0 0 1 1 1 1 1 1 1 1 1 1 1 1 1 1 0 1 1 1 1 1 1 1 0\n",
      " 1 1 1 1 1 1 0 1 1 1 0 0 0 1 0 1 0 1 0 1 1 1 1 1 1 0 1 1 1 1 0 1 1 1 1 1 1\n",
      " 1 1 1 1 1 1 1 0]\n"
     ]
    },
    {
     "data": {
      "text/plain": [
       "Pipeline(steps=[('mlpclassifier', MLPClassifier())])"
      ]
     },
     "execution_count": 49,
     "metadata": {},
     "output_type": "execute_result"
    },
    {
     "name": "stdout",
     "output_type": "stream",
     "text": [
      "[1 1 1 1 1 1 1 1 1 1 1 1 1 1 1 1 1 1 1 1 1 1 1 1 1 1 1 1 1 1 1 1 0 1 1 1 1\n",
      " 1 1 0 1 1 1 1 1 1 1 1 1 1 1 0 1 1 1 0 1 1 1 1 1 1 1 1 1 1 1 0 1 1 1 1 1 1\n",
      " 1 1 1 1 1 1 1 1 1 1 1 1 0 1 1 1 1 1 1 1 1 1 1 1 1 1 1 1 1 1 1 1 1 1 1 1 0\n",
      " 1 1 1 1 1 1 1 1 1 1 1 1 1 1 1 1 1 1 1 1 1 1 1 1 1 0 1 1 1 1 1 1 1 1 1 1 1\n",
      " 1 1 1 1 1 1 1 0]\n"
     ]
    },
    {
     "data": {
      "text/html": [
       "<style  type=\"text/css\" >\n",
       "    #T_f100b774_bec8_11eb_a9d2_e470b828aef0row4_col0 {\n",
       "            background-color:  lightgreen;\n",
       "        }    #T_f100b774_bec8_11eb_a9d2_e470b828aef0row4_col1 {\n",
       "            background-color:  lightgreen;\n",
       "        }    #T_f100b774_bec8_11eb_a9d2_e470b828aef0row4_col3 {\n",
       "            background-color:  lightgreen;\n",
       "        }    #T_f100b774_bec8_11eb_a9d2_e470b828aef0row5_col2 {\n",
       "            background-color:  lightgreen;\n",
       "        }</style><table id=\"T_f100b774_bec8_11eb_a9d2_e470b828aef0\" ><thead>    <tr>        <th class=\"blank level0\" ></th>        <th class=\"col_heading level0 col0\" >accuracy</th>        <th class=\"col_heading level0 col1\" >precision</th>        <th class=\"col_heading level0 col2\" >recall</th>        <th class=\"col_heading level0 col3\" >f1</th>    </tr></thead><tbody>\n",
       "                <tr>\n",
       "                        <th id=\"T_f100b774_bec8_11eb_a9d2_e470b828aef0level0_row0\" class=\"row_heading level0 row0\" >LogReg</th>\n",
       "                        <td id=\"T_f100b774_bec8_11eb_a9d2_e470b828aef0row0_col0\" class=\"data row0 col0\" >0.756</td>\n",
       "                        <td id=\"T_f100b774_bec8_11eb_a9d2_e470b828aef0row0_col1\" class=\"data row0 col1\" >0.752</td>\n",
       "                        <td id=\"T_f100b774_bec8_11eb_a9d2_e470b828aef0row0_col2\" class=\"data row0 col2\" >0.972</td>\n",
       "                        <td id=\"T_f100b774_bec8_11eb_a9d2_e470b828aef0row0_col3\" class=\"data row0 col3\" >0.618</td>\n",
       "            </tr>\n",
       "            <tr>\n",
       "                        <th id=\"T_f100b774_bec8_11eb_a9d2_e470b828aef0level0_row1\" class=\"row_heading level0 row1\" >DecisionTree</th>\n",
       "                        <td id=\"T_f100b774_bec8_11eb_a9d2_e470b828aef0row1_col0\" class=\"data row1 col0\" >0.712</td>\n",
       "                        <td id=\"T_f100b774_bec8_11eb_a9d2_e470b828aef0row1_col1\" class=\"data row1 col1\" >0.746</td>\n",
       "                        <td id=\"T_f100b774_bec8_11eb_a9d2_e470b828aef0row1_col2\" class=\"data row1 col2\" >0.890</td>\n",
       "                        <td id=\"T_f100b774_bec8_11eb_a9d2_e470b828aef0row1_col3\" class=\"data row1 col3\" >0.598</td>\n",
       "            </tr>\n",
       "            <tr>\n",
       "                        <th id=\"T_f100b774_bec8_11eb_a9d2_e470b828aef0level0_row2\" class=\"row_heading level0 row2\" >RandomForest</th>\n",
       "                        <td id=\"T_f100b774_bec8_11eb_a9d2_e470b828aef0row2_col0\" class=\"data row2 col0\" >0.699</td>\n",
       "                        <td id=\"T_f100b774_bec8_11eb_a9d2_e470b828aef0row2_col1\" class=\"data row2 col1\" >0.701</td>\n",
       "                        <td id=\"T_f100b774_bec8_11eb_a9d2_e470b828aef0row2_col2\" class=\"data row2 col2\" >0.991</td>\n",
       "                        <td id=\"T_f100b774_bec8_11eb_a9d2_e470b828aef0row2_col3\" class=\"data row2 col3\" >0.431</td>\n",
       "            </tr>\n",
       "            <tr>\n",
       "                        <th id=\"T_f100b774_bec8_11eb_a9d2_e470b828aef0level0_row3\" class=\"row_heading level0 row3\" >SVM</th>\n",
       "                        <td id=\"T_f100b774_bec8_11eb_a9d2_e470b828aef0row3_col0\" class=\"data row3 col0\" >0.769</td>\n",
       "                        <td id=\"T_f100b774_bec8_11eb_a9d2_e470b828aef0row3_col1\" class=\"data row3 col1\" >0.779</td>\n",
       "                        <td id=\"T_f100b774_bec8_11eb_a9d2_e470b828aef0row3_col2\" class=\"data row3 col2\" >0.936</td>\n",
       "                        <td id=\"T_f100b774_bec8_11eb_a9d2_e470b828aef0row3_col3\" class=\"data row3 col3\" >0.675</td>\n",
       "            </tr>\n",
       "            <tr>\n",
       "                        <th id=\"T_f100b774_bec8_11eb_a9d2_e470b828aef0level0_row4\" class=\"row_heading level0 row4\" >LinearSVC</th>\n",
       "                        <td id=\"T_f100b774_bec8_11eb_a9d2_e470b828aef0row4_col0\" class=\"data row4 col0\" >0.827</td>\n",
       "                        <td id=\"T_f100b774_bec8_11eb_a9d2_e470b828aef0row4_col1\" class=\"data row4 col1\" >0.820</td>\n",
       "                        <td id=\"T_f100b774_bec8_11eb_a9d2_e470b828aef0row4_col2\" class=\"data row4 col2\" >0.963</td>\n",
       "                        <td id=\"T_f100b774_bec8_11eb_a9d2_e470b828aef0row4_col3\" class=\"data row4 col3\" >0.763</td>\n",
       "            </tr>\n",
       "            <tr>\n",
       "                        <th id=\"T_f100b774_bec8_11eb_a9d2_e470b828aef0level0_row5\" class=\"row_heading level0 row5\" >KNN</th>\n",
       "                        <td id=\"T_f100b774_bec8_11eb_a9d2_e470b828aef0row5_col0\" class=\"data row5 col0\" >0.699</td>\n",
       "                        <td id=\"T_f100b774_bec8_11eb_a9d2_e470b828aef0row5_col1\" class=\"data row5 col1\" >0.699</td>\n",
       "                        <td id=\"T_f100b774_bec8_11eb_a9d2_e470b828aef0row5_col2\" class=\"data row5 col2\" >1.000</td>\n",
       "                        <td id=\"T_f100b774_bec8_11eb_a9d2_e470b828aef0row5_col3\" class=\"data row5 col3\" >0.411</td>\n",
       "            </tr>\n",
       "            <tr>\n",
       "                        <th id=\"T_f100b774_bec8_11eb_a9d2_e470b828aef0level0_row6\" class=\"row_heading level0 row6\" >AdaBoost</th>\n",
       "                        <td id=\"T_f100b774_bec8_11eb_a9d2_e470b828aef0row6_col0\" class=\"data row6 col0\" >0.686</td>\n",
       "                        <td id=\"T_f100b774_bec8_11eb_a9d2_e470b828aef0row6_col1\" class=\"data row6 col1\" >0.738</td>\n",
       "                        <td id=\"T_f100b774_bec8_11eb_a9d2_e470b828aef0row6_col2\" class=\"data row6 col2\" >0.853</td>\n",
       "                        <td id=\"T_f100b774_bec8_11eb_a9d2_e470b828aef0row6_col3\" class=\"data row6 col3\" >0.578</td>\n",
       "            </tr>\n",
       "            <tr>\n",
       "                        <th id=\"T_f100b774_bec8_11eb_a9d2_e470b828aef0level0_row7\" class=\"row_heading level0 row7\" >Naive Bayes</th>\n",
       "                        <td id=\"T_f100b774_bec8_11eb_a9d2_e470b828aef0row7_col0\" class=\"data row7 col0\" >0.718</td>\n",
       "                        <td id=\"T_f100b774_bec8_11eb_a9d2_e470b828aef0row7_col1\" class=\"data row7 col1\" >0.724</td>\n",
       "                        <td id=\"T_f100b774_bec8_11eb_a9d2_e470b828aef0row7_col2\" class=\"data row7 col2\" >0.963</td>\n",
       "                        <td id=\"T_f100b774_bec8_11eb_a9d2_e470b828aef0row7_col3\" class=\"data row7 col3\" >0.534</td>\n",
       "            </tr>\n",
       "            <tr>\n",
       "                        <th id=\"T_f100b774_bec8_11eb_a9d2_e470b828aef0level0_row8\" class=\"row_heading level0 row8\" >Perceptron</th>\n",
       "                        <td id=\"T_f100b774_bec8_11eb_a9d2_e470b828aef0row8_col0\" class=\"data row8 col0\" >0.718</td>\n",
       "                        <td id=\"T_f100b774_bec8_11eb_a9d2_e470b828aef0row8_col1\" class=\"data row8 col1\" >0.764</td>\n",
       "                        <td id=\"T_f100b774_bec8_11eb_a9d2_e470b828aef0row8_col2\" class=\"data row8 col2\" >0.862</td>\n",
       "                        <td id=\"T_f100b774_bec8_11eb_a9d2_e470b828aef0row8_col3\" class=\"data row8 col3\" >0.630</td>\n",
       "            </tr>\n",
       "            <tr>\n",
       "                        <th id=\"T_f100b774_bec8_11eb_a9d2_e470b828aef0level0_row9\" class=\"row_heading level0 row9\" >MLPClassifier</th>\n",
       "                        <td id=\"T_f100b774_bec8_11eb_a9d2_e470b828aef0row9_col0\" class=\"data row9 col0\" >0.744</td>\n",
       "                        <td id=\"T_f100b774_bec8_11eb_a9d2_e470b828aef0row9_col1\" class=\"data row9 col1\" >0.735</td>\n",
       "                        <td id=\"T_f100b774_bec8_11eb_a9d2_e470b828aef0row9_col2\" class=\"data row9 col2\" >0.991</td>\n",
       "                        <td id=\"T_f100b774_bec8_11eb_a9d2_e470b828aef0row9_col3\" class=\"data row9 col3\" >0.565</td>\n",
       "            </tr>\n",
       "    </tbody></table>"
      ],
      "text/plain": [
       "<pandas.io.formats.style.Styler at 0x2ae8b6072e0>"
      ]
     },
     "execution_count": 49,
     "metadata": {},
     "output_type": "execute_result"
    }
   ],
   "source": [
    "ml_models={\n",
    "    'LogReg'            : LogisticRegression(),\n",
    "    'DecisionTree'      : DecisionTreeClassifier(),\n",
    "    'RandomForest'      : RandomForestClassifier(),\n",
    "    'SVM'               : SVC(kernel=\"linear\",gamma=0.001),\n",
    "    'LinearSVC'         : LinearSVC(),\n",
    "    'KNN'               : KNeighborsClassifier(n_neighbors=9, metric='manhattan'),\n",
    "    'AdaBoost'          : AdaBoostClassifier(), \n",
    "    'Naive Bayes'       : MultinomialNB(alpha=1.0, class_prior=None, fit_prior=True),\n",
    "    'Perceptron'        : Perceptron(),\n",
    "    'MLPClassifier'     : MLPClassifier()\n",
    "}\n",
    "\n",
    "df_metrics=pd.DataFrame([])\n",
    "predicts={}\n",
    "vector_test = vectorizer.transform(df_test.story)\n",
    "\n",
    "\n",
    "for model_name in ml_models.keys():\n",
    "    \n",
    "    metrics={}\n",
    "\n",
    "    classifier = make_pipeline(ml_models[model_name])\n",
    "    classifier.fit(vector, model_df.gender)\n",
    "\n",
    "    pred_test = classifier.predict(vector_test)\n",
    "    print(pred_test)\n",
    "        \n",
    "    metrics['accuracy']= accuracy_score(df_test.gender, pred_test)\n",
    "    metrics['precision'] = precision_score(df_test.gender, pred_test)\n",
    "    metrics['recall'] = recall_score(df_test.gender, pred_test)\n",
    "    metrics['f1'] = f1_score(df_test.gender, pred_test, average='macro')\n",
    "    df_metrics=pd.concat([df_metrics,pd.DataFrame(metrics,index=[model_name]).T],axis=1)\n",
    "    \n",
    "\n",
    "\n",
    "\n",
    "df_metrics.T.style.highlight_max(color='lightgreen').set_precision(3)"
   ]
  },
  {
   "cell_type": "code",
   "execution_count": 50,
   "metadata": {},
   "outputs": [
    {
     "data": {
      "image/png": "[encoded data removed]",
      "text/plain": [
       "<Figure size 1008x504 with 1 Axes>"
      ]
     },
     "metadata": {
      "needs_background": "light"
     },
     "output_type": "display_data"
    }
   ],
   "source": [
    "df_metrics.T.plot(kind='bar', figsize=(14,7));\n",
    "plt.legend(loc=(1.04,0)); plt.xticks(rotation=45);"
   ]
  },
  {
   "cell_type": "markdown",
   "metadata": {},
   "source": [
    "# <span style='font-family:\"Times New Roman\"'> <span styel=''> Change binary classes: female = 1 & male = 0"
   ]
  },
  {
   "cell_type": "code",
   "execution_count": 51,
   "metadata": {},
   "outputs": [],
   "source": [
    "train_opposite = model_df.copy()\n",
    "test_opposite = df_test.copy()\n",
    "\n",
    "replace_str_to_catgorical = {1:0, 0:1}\n",
    "train_opposite.replace(replace_str_to_catgorical, inplace=True)\n",
    "test_opposite.replace(replace_str_to_catgorical, inplace=True)"
   ]
  },
  {
   "cell_type": "code",
   "execution_count": 52,
   "metadata": {},
   "outputs": [
    {
     "data": {
      "text/html": [
       "<div>\n",
       "<style scoped>\n",
       "    .dataframe tbody tr th:only-of-type {\n",
       "        vertical-align: middle;\n",
       "    }\n",
       "\n",
       "    .dataframe tbody tr th {\n",
       "        vertical-align: top;\n",
       "    }\n",
       "\n",
       "    .dataframe thead th {\n",
       "        text-align: right;\n",
       "    }\n",
       "</style>\n",
       "<table border=\"1\" class=\"dataframe\">\n",
       "  <thead>\n",
       "    <tr style=\"text-align: right;\">\n",
       "      <th></th>\n",
       "      <th>gender</th>\n",
       "      <th>tokenized_clean_text</th>\n",
       "    </tr>\n",
       "  </thead>\n",
       "  <tbody>\n",
       "    <tr>\n",
       "      <th>0</th>\n",
       "      <td>0</td>\n",
       "      <td>אחד קמתי סהרורי יצאתי מהמיטה מטושטש קמתי בצעדי...</td>\n",
       "    </tr>\n",
       "    <tr>\n",
       "      <th>1</th>\n",
       "      <td>0</td>\n",
       "      <td>לחבר היה הולדת וחיפשנו לעשות לו הולדת מנת לחגו...</td>\n",
       "    </tr>\n",
       "    <tr>\n",
       "      <th>2</th>\n",
       "      <td>0</td>\n",
       "      <td>האחרונה הייתה שנת קורונה פשוטה בקנה מידה אוניב...</td>\n",
       "    </tr>\n",
       "    <tr>\n",
       "      <th>3</th>\n",
       "      <td>0</td>\n",
       "      <td>כחצי עברתי לגור בצפון בת זוגתי עברנו לקיבוץ עמ...</td>\n",
       "    </tr>\n",
       "    <tr>\n",
       "      <th>4</th>\n",
       "      <td>0</td>\n",
       "      <td>חמישי רגיל מתחיל לעבור טיפה מאוחר ללכת בבוקר ל...</td>\n",
       "    </tr>\n",
       "    <tr>\n",
       "      <th>5</th>\n",
       "      <td>0</td>\n",
       "      <td>בשנה האחרונה חוויתי את מגפת הקורונה שהכריח את ...</td>\n",
       "    </tr>\n",
       "    <tr>\n",
       "      <th>6</th>\n",
       "      <td>0</td>\n",
       "      <td>בסמסטר קודם וכמה חברים ללימודים קבענו להיפגש ב...</td>\n",
       "    </tr>\n",
       "    <tr>\n",
       "      <th>7</th>\n",
       "      <td>1</td>\n",
       "      <td>בשנה האחרונה מידיי לעשות קורונה הצלחתי להוציא ...</td>\n",
       "    </tr>\n",
       "    <tr>\n",
       "      <th>8</th>\n",
       "      <td>0</td>\n",
       "      <td>קרה חודשים יושב בסלון ורואה חדשות ולפתע מקבל ס...</td>\n",
       "    </tr>\n",
       "    <tr>\n",
       "      <th>9</th>\n",
       "      <td>0</td>\n",
       "      <td>הסיפור שברתי את השעון היד הראשון שקניתי שהתגיי...</td>\n",
       "    </tr>\n",
       "  </tbody>\n",
       "</table>\n",
       "</div>"
      ],
      "text/plain": [
       "   gender                               tokenized_clean_text\n",
       "0       0  אחד קמתי סהרורי יצאתי מהמיטה מטושטש קמתי בצעדי...\n",
       "1       0  לחבר היה הולדת וחיפשנו לעשות לו הולדת מנת לחגו...\n",
       "2       0  האחרונה הייתה שנת קורונה פשוטה בקנה מידה אוניב...\n",
       "3       0  כחצי עברתי לגור בצפון בת זוגתי עברנו לקיבוץ עמ...\n",
       "4       0  חמישי רגיל מתחיל לעבור טיפה מאוחר ללכת בבוקר ל...\n",
       "5       0  בשנה האחרונה חוויתי את מגפת הקורונה שהכריח את ...\n",
       "6       0  בסמסטר קודם וכמה חברים ללימודים קבענו להיפגש ב...\n",
       "7       1  בשנה האחרונה מידיי לעשות קורונה הצלחתי להוציא ...\n",
       "8       0  קרה חודשים יושב בסלון ורואה חדשות ולפתע מקבל ס...\n",
       "9       0  הסיפור שברתי את השעון היד הראשון שקניתי שהתגיי..."
      ]
     },
     "execution_count": 52,
     "metadata": {},
     "output_type": "execute_result"
    }
   ],
   "source": [
    "train_opposite.head(10)"
   ]
  },
  {
   "cell_type": "code",
   "execution_count": 53,
   "metadata": {},
   "outputs": [
    {
     "data": {
      "text/plain": [
       "CountVectorizer(max_features=7000)"
      ]
     },
     "execution_count": 53,
     "metadata": {},
     "output_type": "execute_result"
    }
   ],
   "source": [
    "vectorizer.fit(train_opposite.tokenized_clean_text)\n",
    "vector = vectorizer.transform(train_opposite.tokenized_clean_text)"
   ]
  },
  {
   "cell_type": "code",
   "execution_count": 54,
   "metadata": {},
   "outputs": [
    {
     "data": {
      "text/plain": [
       "Pipeline(steps=[('logisticregression', LogisticRegression())])"
      ]
     },
     "execution_count": 54,
     "metadata": {},
     "output_type": "execute_result"
    },
    {
     "data": {
      "text/plain": [
       "Pipeline(steps=[('decisiontreeclassifier', DecisionTreeClassifier())])"
      ]
     },
     "execution_count": 54,
     "metadata": {},
     "output_type": "execute_result"
    },
    {
     "data": {
      "text/plain": [
       "Pipeline(steps=[('randomforestclassifier', RandomForestClassifier())])"
      ]
     },
     "execution_count": 54,
     "metadata": {},
     "output_type": "execute_result"
    },
    {
     "data": {
      "text/plain": [
       "Pipeline(steps=[('svc', SVC(gamma=0.001, kernel='linear'))])"
      ]
     },
     "execution_count": 54,
     "metadata": {},
     "output_type": "execute_result"
    },
    {
     "data": {
      "text/plain": [
       "Pipeline(steps=[('linearsvc', LinearSVC())])"
      ]
     },
     "execution_count": 54,
     "metadata": {},
     "output_type": "execute_result"
    },
    {
     "data": {
      "text/plain": [
       "Pipeline(steps=[('kneighborsclassifier',\n",
       "                 KNeighborsClassifier(metric='manhattan', n_neighbors=9))])"
      ]
     },
     "execution_count": 54,
     "metadata": {},
     "output_type": "execute_result"
    },
    {
     "data": {
      "text/plain": [
       "Pipeline(steps=[('adaboostclassifier', AdaBoostClassifier())])"
      ]
     },
     "execution_count": 54,
     "metadata": {},
     "output_type": "execute_result"
    },
    {
     "data": {
      "text/plain": [
       "Pipeline(steps=[('multinomialnb', MultinomialNB())])"
      ]
     },
     "execution_count": 54,
     "metadata": {},
     "output_type": "execute_result"
    },
    {
     "data": {
      "text/plain": [
       "Pipeline(steps=[('perceptron', Perceptron())])"
      ]
     },
     "execution_count": 54,
     "metadata": {},
     "output_type": "execute_result"
    },
    {
     "data": {
      "text/plain": [
       "Pipeline(steps=[('mlpclassifier', MLPClassifier())])"
      ]
     },
     "execution_count": 54,
     "metadata": {},
     "output_type": "execute_result"
    },
    {
     "data": {
      "text/html": [
       "<style  type=\"text/css\" >\n",
       "    #T_f4eea851_bec8_11eb_8f2a_e470b828aef0row2_col1 {\n",
       "            background-color:  lightgreen;\n",
       "        }    #T_f4eea851_bec8_11eb_8f2a_e470b828aef0row4_col0 {\n",
       "            background-color:  lightgreen;\n",
       "        }    #T_f4eea851_bec8_11eb_8f2a_e470b828aef0row4_col2 {\n",
       "            background-color:  lightgreen;\n",
       "        }    #T_f4eea851_bec8_11eb_8f2a_e470b828aef0row4_col3 {\n",
       "            background-color:  lightgreen;\n",
       "        }</style><table id=\"T_f4eea851_bec8_11eb_8f2a_e470b828aef0\" ><thead>    <tr>        <th class=\"blank level0\" ></th>        <th class=\"col_heading level0 col0\" >accuracy</th>        <th class=\"col_heading level0 col1\" >precision</th>        <th class=\"col_heading level0 col2\" >recall</th>        <th class=\"col_heading level0 col3\" >f1</th>    </tr></thead><tbody>\n",
       "                <tr>\n",
       "                        <th id=\"T_f4eea851_bec8_11eb_8f2a_e470b828aef0level0_row0\" class=\"row_heading level0 row0\" >LogReg</th>\n",
       "                        <td id=\"T_f4eea851_bec8_11eb_8f2a_e470b828aef0row0_col0\" class=\"data row0 col0\" >0.756</td>\n",
       "                        <td id=\"T_f4eea851_bec8_11eb_8f2a_e470b828aef0row0_col1\" class=\"data row0 col1\" >0.800</td>\n",
       "                        <td id=\"T_f4eea851_bec8_11eb_8f2a_e470b828aef0row0_col2\" class=\"data row0 col2\" >0.255</td>\n",
       "                        <td id=\"T_f4eea851_bec8_11eb_8f2a_e470b828aef0row0_col3\" class=\"data row0 col3\" >0.618</td>\n",
       "            </tr>\n",
       "            <tr>\n",
       "                        <th id=\"T_f4eea851_bec8_11eb_8f2a_e470b828aef0level0_row1\" class=\"row_heading level0 row1\" >DecisionTree</th>\n",
       "                        <td id=\"T_f4eea851_bec8_11eb_8f2a_e470b828aef0row1_col0\" class=\"data row1 col0\" >0.782</td>\n",
       "                        <td id=\"T_f4eea851_bec8_11eb_8f2a_e470b828aef0row1_col1\" class=\"data row1 col1\" >0.760</td>\n",
       "                        <td id=\"T_f4eea851_bec8_11eb_8f2a_e470b828aef0row1_col2\" class=\"data row1 col2\" >0.404</td>\n",
       "                        <td id=\"T_f4eea851_bec8_11eb_8f2a_e470b828aef0row1_col3\" class=\"data row1 col3\" >0.693</td>\n",
       "            </tr>\n",
       "            <tr>\n",
       "                        <th id=\"T_f4eea851_bec8_11eb_8f2a_e470b828aef0level0_row2\" class=\"row_heading level0 row2\" >RandomForest</th>\n",
       "                        <td id=\"T_f4eea851_bec8_11eb_8f2a_e470b828aef0row2_col0\" class=\"data row2 col0\" >0.705</td>\n",
       "                        <td id=\"T_f4eea851_bec8_11eb_8f2a_e470b828aef0row2_col1\" class=\"data row2 col1\" >1.000</td>\n",
       "                        <td id=\"T_f4eea851_bec8_11eb_8f2a_e470b828aef0row2_col2\" class=\"data row2 col2\" >0.021</td>\n",
       "                        <td id=\"T_f4eea851_bec8_11eb_8f2a_e470b828aef0row2_col3\" class=\"data row2 col3\" >0.434</td>\n",
       "            </tr>\n",
       "            <tr>\n",
       "                        <th id=\"T_f4eea851_bec8_11eb_8f2a_e470b828aef0level0_row3\" class=\"row_heading level0 row3\" >SVM</th>\n",
       "                        <td id=\"T_f4eea851_bec8_11eb_8f2a_e470b828aef0row3_col0\" class=\"data row3 col0\" >0.769</td>\n",
       "                        <td id=\"T_f4eea851_bec8_11eb_8f2a_e470b828aef0row3_col1\" class=\"data row3 col1\" >0.720</td>\n",
       "                        <td id=\"T_f4eea851_bec8_11eb_8f2a_e470b828aef0row3_col2\" class=\"data row3 col2\" >0.383</td>\n",
       "                        <td id=\"T_f4eea851_bec8_11eb_8f2a_e470b828aef0row3_col3\" class=\"data row3 col3\" >0.675</td>\n",
       "            </tr>\n",
       "            <tr>\n",
       "                        <th id=\"T_f4eea851_bec8_11eb_8f2a_e470b828aef0level0_row4\" class=\"row_heading level0 row4\" >LinearSVC</th>\n",
       "                        <td id=\"T_f4eea851_bec8_11eb_8f2a_e470b828aef0row4_col0\" class=\"data row4 col0\" >0.827</td>\n",
       "                        <td id=\"T_f4eea851_bec8_11eb_8f2a_e470b828aef0row4_col1\" class=\"data row4 col1\" >0.857</td>\n",
       "                        <td id=\"T_f4eea851_bec8_11eb_8f2a_e470b828aef0row4_col2\" class=\"data row4 col2\" >0.511</td>\n",
       "                        <td id=\"T_f4eea851_bec8_11eb_8f2a_e470b828aef0row4_col3\" class=\"data row4 col3\" >0.763</td>\n",
       "            </tr>\n",
       "            <tr>\n",
       "                        <th id=\"T_f4eea851_bec8_11eb_8f2a_e470b828aef0level0_row5\" class=\"row_heading level0 row5\" >KNN</th>\n",
       "                        <td id=\"T_f4eea851_bec8_11eb_8f2a_e470b828aef0row5_col0\" class=\"data row5 col0\" >0.699</td>\n",
       "                        <td id=\"T_f4eea851_bec8_11eb_8f2a_e470b828aef0row5_col1\" class=\"data row5 col1\" >0.000</td>\n",
       "                        <td id=\"T_f4eea851_bec8_11eb_8f2a_e470b828aef0row5_col2\" class=\"data row5 col2\" >0.000</td>\n",
       "                        <td id=\"T_f4eea851_bec8_11eb_8f2a_e470b828aef0row5_col3\" class=\"data row5 col3\" >0.411</td>\n",
       "            </tr>\n",
       "            <tr>\n",
       "                        <th id=\"T_f4eea851_bec8_11eb_8f2a_e470b828aef0level0_row6\" class=\"row_heading level0 row6\" >AdaBoost</th>\n",
       "                        <td id=\"T_f4eea851_bec8_11eb_8f2a_e470b828aef0row6_col0\" class=\"data row6 col0\" >0.686</td>\n",
       "                        <td id=\"T_f4eea851_bec8_11eb_8f2a_e470b828aef0row6_col1\" class=\"data row6 col1\" >0.467</td>\n",
       "                        <td id=\"T_f4eea851_bec8_11eb_8f2a_e470b828aef0row6_col2\" class=\"data row6 col2\" >0.298</td>\n",
       "                        <td id=\"T_f4eea851_bec8_11eb_8f2a_e470b828aef0row6_col3\" class=\"data row6 col3\" >0.578</td>\n",
       "            </tr>\n",
       "            <tr>\n",
       "                        <th id=\"T_f4eea851_bec8_11eb_8f2a_e470b828aef0level0_row7\" class=\"row_heading level0 row7\" >Naive Bayes</th>\n",
       "                        <td id=\"T_f4eea851_bec8_11eb_8f2a_e470b828aef0row7_col0\" class=\"data row7 col0\" >0.718</td>\n",
       "                        <td id=\"T_f4eea851_bec8_11eb_8f2a_e470b828aef0row7_col1\" class=\"data row7 col1\" >0.636</td>\n",
       "                        <td id=\"T_f4eea851_bec8_11eb_8f2a_e470b828aef0row7_col2\" class=\"data row7 col2\" >0.149</td>\n",
       "                        <td id=\"T_f4eea851_bec8_11eb_8f2a_e470b828aef0row7_col3\" class=\"data row7 col3\" >0.534</td>\n",
       "            </tr>\n",
       "            <tr>\n",
       "                        <th id=\"T_f4eea851_bec8_11eb_8f2a_e470b828aef0level0_row8\" class=\"row_heading level0 row8\" >Perceptron</th>\n",
       "                        <td id=\"T_f4eea851_bec8_11eb_8f2a_e470b828aef0row8_col0\" class=\"data row8 col0\" >0.718</td>\n",
       "                        <td id=\"T_f4eea851_bec8_11eb_8f2a_e470b828aef0row8_col1\" class=\"data row8 col1\" >0.545</td>\n",
       "                        <td id=\"T_f4eea851_bec8_11eb_8f2a_e470b828aef0row8_col2\" class=\"data row8 col2\" >0.383</td>\n",
       "                        <td id=\"T_f4eea851_bec8_11eb_8f2a_e470b828aef0row8_col3\" class=\"data row8 col3\" >0.630</td>\n",
       "            </tr>\n",
       "            <tr>\n",
       "                        <th id=\"T_f4eea851_bec8_11eb_8f2a_e470b828aef0level0_row9\" class=\"row_heading level0 row9\" >MLPClassifier</th>\n",
       "                        <td id=\"T_f4eea851_bec8_11eb_8f2a_e470b828aef0row9_col0\" class=\"data row9 col0\" >0.756</td>\n",
       "                        <td id=\"T_f4eea851_bec8_11eb_8f2a_e470b828aef0row9_col1\" class=\"data row9 col1\" >0.909</td>\n",
       "                        <td id=\"T_f4eea851_bec8_11eb_8f2a_e470b828aef0row9_col2\" class=\"data row9 col2\" >0.213</td>\n",
       "                        <td id=\"T_f4eea851_bec8_11eb_8f2a_e470b828aef0row9_col3\" class=\"data row9 col3\" >0.598</td>\n",
       "            </tr>\n",
       "    </tbody></table>"
      ],
      "text/plain": [
       "<pandas.io.formats.style.Styler at 0x2ae8a62df40>"
      ]
     },
     "execution_count": 54,
     "metadata": {},
     "output_type": "execute_result"
    }
   ],
   "source": [
    "ml_models={\n",
    "    'LogReg'            : LogisticRegression(),\n",
    "    'DecisionTree'      : DecisionTreeClassifier(),\n",
    "    'RandomForest'      : RandomForestClassifier(),\n",
    "    'SVM'               : SVC(kernel=\"linear\",gamma=0.001),\n",
    "    'LinearSVC'         : LinearSVC(),\n",
    "    'KNN'               : KNeighborsClassifier(n_neighbors=9, metric='manhattan'),\n",
    "    'AdaBoost'          : AdaBoostClassifier(), \n",
    "    'Naive Bayes'       : MultinomialNB(alpha=1.0, class_prior=None, fit_prior=True),\n",
    "    'Perceptron'        : Perceptron(),\n",
    "    'MLPClassifier'     : MLPClassifier()\n",
    "}\n",
    "\n",
    "df_metrics=pd.DataFrame([])\n",
    "predicts={}\n",
    "vector_test = vectorizer.transform(test_opposite.story)\n",
    "\n",
    "\n",
    "for model_name in ml_models.keys():\n",
    "    \n",
    "    metrics={}\n",
    "\n",
    "    classifier = make_pipeline(ml_models[model_name])\n",
    "    classifier.fit(vector, train_opposite.gender)\n",
    "\n",
    "    pred_test = classifier.predict(vector_test)\n",
    " \n",
    "    #acc_test = accuracy_score(df_test.gender, pred_test)\n",
    "    #f1_test = f1_score(df_test.gender, pred_test, average='macro')\n",
    "        \n",
    "    metrics['accuracy']= accuracy_score(test_opposite.gender, pred_test)\n",
    "    metrics['precision'] = precision_score(test_opposite.gender, pred_test)\n",
    "    metrics['recall'] = recall_score(test_opposite.gender, pred_test)\n",
    "    metrics['f1'] = f1_score(test_opposite.gender, pred_test, average='macro')\n",
    "    df_metrics=pd.concat([df_metrics,pd.DataFrame(metrics,index=[model_name]).T],axis=1)\n",
    "    \n",
    "\n",
    "\n",
    "\n",
    "df_metrics.T.style.highlight_max(color='lightgreen').set_precision(3)"
   ]
  },
  {
   "cell_type": "markdown",
   "metadata": {},
   "source": [
    "### Use the grid search module to optimize model parameters"
   ]
  },
  {
   "cell_type": "code",
   "execution_count": 55,
   "metadata": {},
   "outputs": [
    {
     "data": {
      "text/plain": [
       "KNeighborsClassifier()"
      ]
     },
     "execution_count": 55,
     "metadata": {},
     "output_type": "execute_result"
    },
    {
     "data": {
      "text/plain": [
       "GridSearchCV(estimator=KNeighborsClassifier(),\n",
       "             param_grid={'metric': array(['manhattan', 'euclidean', 'chebyshev'], dtype='<U9'),\n",
       "                         'n_neighbors': array([ 3,  9, 13])})"
      ]
     },
     "execution_count": 55,
     "metadata": {},
     "output_type": "execute_result"
    }
   ],
   "source": [
    "classifier_knn = KNeighborsClassifier()\n",
    "classifier_knn.fit(vector, model_df.gender)\n",
    "k_vals = np.array([3,9,13])\n",
    "dist_metrics=np.array([\"manhattan\", \"euclidean\", \"chebyshev\"])\n",
    "classifier = GridSearchCV(estimator=classifier_knn, param_grid={'n_neighbors':k_vals, 'metric':dist_metrics})\n",
    "classifier.fit(vector, model_df.gender)"
   ]
  },
  {
   "cell_type": "code",
   "execution_count": 56,
   "metadata": {},
   "outputs": [
    {
     "data": {
      "text/plain": [
       "0.7445205479452055"
      ]
     },
     "execution_count": 56,
     "metadata": {},
     "output_type": "execute_result"
    }
   ],
   "source": [
    "classifier.best_score_"
   ]
  },
  {
   "cell_type": "code",
   "execution_count": 57,
   "metadata": {},
   "outputs": [
    {
     "name": "stdout",
     "output_type": "stream",
     "text": [
      "K= 9 distance-metric: manhattan\n"
     ]
    }
   ],
   "source": [
    "print('K=',classifier.best_estimator_.n_neighbors,'distance-metric:',classifier.best_estimator_.metric)"
   ]
  }
 ],
 "metadata": {
  "kernelspec": {
   "display_name": "Python 3",
   "language": "python",
   "name": "python3"
  },
  "language_info": {
   "codemirror_mode": {
    "name": "ipython",
    "version": 3
   },
   "file_extension": ".py",
   "mimetype": "text/x-python",
   "name": "python",
   "nbconvert_exporter": "python",
   "pygments_lexer": "ipython3",
   "version": "3.8.3"
  }
 },
 "nbformat": 4,
 "nbformat_minor": 4
}
